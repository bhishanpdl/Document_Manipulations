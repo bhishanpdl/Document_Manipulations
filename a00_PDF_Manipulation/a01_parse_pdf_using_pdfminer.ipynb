{
 "cells": [
  {
   "cell_type": "markdown",
   "id": "18c8971f-6508-4f5e-a1dd-e2b8e0c8b42f",
   "metadata": {},
   "source": [
    "# Introduction\n",
    "- https://towardsdatascience.com/4-simple-ways-to-import-word-and-pdf-files-into-python-when-pandas-fails-43cf81599461\n",
    "- https://github.com/YiLi225/Import_PDF_Word_Python"
   ]
  },
  {
   "cell_type": "code",
   "execution_count": 10,
   "id": "0ead59c2-2d71-4e78-9ed2-a014ca4adef6",
   "metadata": {},
   "outputs": [],
   "source": [
    "import os\n",
    "import win32com\n",
    "from win32com import client\n",
    "\n",
    "import pdfminer"
   ]
  },
  {
   "cell_type": "code",
   "execution_count": 3,
   "id": "b6a13e4e-918b-4361-a66f-7b6ffd043ef4",
   "metadata": {},
   "outputs": [],
   "source": [
    "%load_ext watermark"
   ]
  },
  {
   "cell_type": "code",
   "execution_count": 4,
   "id": "dd03ce11-3748-4c2a-8cdf-b94013ba8089",
   "metadata": {},
   "outputs": [
    {
     "name": "stdout",
     "output_type": "stream",
     "text": [
      "pdfminer: 20191125\n",
      "\n"
     ]
    }
   ],
   "source": [
    "%watermark -iv"
   ]
  },
  {
   "cell_type": "code",
   "execution_count": 5,
   "id": "93144bad-eea2-4787-bcdf-99903997c7b7",
   "metadata": {},
   "outputs": [
    {
     "name": "stdout",
     "output_type": "stream",
     "text": [
      "pip 24.0 from C:\\Users\\a126291\\venv\\py311pandasai\\Lib\\site-packages\\pip (python 3.11)\n",
      "\n"
     ]
    }
   ],
   "source": [
    "!pip --version"
   ]
  },
  {
   "cell_type": "code",
   "execution_count": 6,
   "id": "3a08cd70-3f38-46af-a017-07206260aba0",
   "metadata": {},
   "outputs": [],
   "source": [
    "path_pdf = r\"C:\\Users\\a126291\\OneDrive - AmerisourceBergen(ABC)\\data\\pdf_files\\fda_dupixent_Page_3_to_10.pdf\""
   ]
  },
  {
   "cell_type": "markdown",
   "id": "eb6cae6d-f9f7-4ee2-82d3-d0a0fbf0d5f0",
   "metadata": {},
   "source": [
    "# Parse pdf"
   ]
  },
  {
   "cell_type": "code",
   "execution_count": 9,
   "id": "893091e6-763d-402e-af1a-bc3218ada745",
   "metadata": {},
   "outputs": [
    {
     "name": "stdout",
     "output_type": "stream",
     "text": [
      "FULL PRESCRIBING INFORMATION \n",
      "1 \n",
      "1.1 \n",
      "INDICATIONS AND USAGE \n",
      "Atopic Dermatitis \n",
      "DUPIXENT is indicate\n"
     ]
    }
   ],
   "source": [
    "from io import StringIO\n",
    "from pdfminer.pdfinterp import PDFResourceManager, PDFPageInterpreter\n",
    "from pdfminer.converter import TextConverter\n",
    "from pdfminer.layout import LAParams\n",
    "from pdfminer.pdfpage import PDFPage\n",
    "\n",
    "def pdf_text_reader(pdf_file_name, pages=None):\n",
    "    from io import StringIO\n",
    "    if pages:\n",
    "        pagenums = set(pages)\n",
    "    else:\n",
    "        pagenums = set()\n",
    "\n",
    "    ## 1) Initiate the Pdf text converter and interpreter\n",
    "    textOutput = StringIO()\n",
    "    manager = PDFResourceManager()\n",
    "    converter = TextConverter(manager, textOutput, laparams=LAParams())\n",
    "    interpreter = PDFPageInterpreter(manager, converter)\n",
    "\n",
    "    ## 2) Extract text from file using the interpreter\n",
    "    infile = open(pdf_file_name, 'rb')\n",
    "    for page in PDFPage.get_pages(infile, pagenums):\n",
    "        interpreter.process_page(page)\n",
    "    infile.close()\n",
    "\n",
    "    ## 3) Extract the paragraphs and close the connections\n",
    "    paras = textOutput.getvalue()\n",
    "    converter.close()\n",
    "    textOutput.close\n",
    "    return paras\n",
    "\n",
    "# usage\n",
    "paras = pdf_text_reader(path_pdf, pages=[0])\n",
    "paras = [i for i in out.split('\\n') if i]\n",
    "parsed_text = '\\n'.join(paras)\n",
    "print(parsed_text[:100])"
   ]
  },
  {
   "cell_type": "code",
   "execution_count": 11,
   "id": "45c32e0b-0b1f-4f4d-97ae-e2f7a4ef8605",
   "metadata": {},
   "outputs": [],
   "source": [
    "# !explorer.exe ."
   ]
  },
  {
   "cell_type": "code",
   "execution_count": null,
   "id": "9cefe5f6-1c77-47aa-9b21-432b3609a725",
   "metadata": {},
   "outputs": [],
   "source": []
  }
 ],
 "metadata": {
  "kernelspec": {
   "display_name": "Python 3 (ipykernel)",
   "language": "python",
   "name": "python3"
  },
  "language_info": {
   "codemirror_mode": {
    "name": "ipython",
    "version": 3
   },
   "file_extension": ".py",
   "mimetype": "text/x-python",
   "name": "python",
   "nbconvert_exporter": "python",
   "pygments_lexer": "ipython3",
   "version": "3.11.7"
  }
 },
 "nbformat": 4,
 "nbformat_minor": 5
}
