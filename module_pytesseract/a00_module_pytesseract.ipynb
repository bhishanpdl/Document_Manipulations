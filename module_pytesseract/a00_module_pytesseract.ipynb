{
 "cells": [
  {
   "cell_type": "markdown",
   "id": "e551adf7-287b-44a9-88ae-f221802696eb",
   "metadata": {},
   "source": [
    "# Get OCR from a jpg file"
   ]
  },
  {
   "cell_type": "code",
   "execution_count": 3,
   "id": "06d67e63-c83f-4cfd-8f1e-15a759cf6543",
   "metadata": {},
   "outputs": [
    {
     "name": "stdout",
     "output_type": "stream",
     "text": [
      "This is a lot of 12 point text to test the\n",
      "ocr code and see if it works on all types\n",
      "of file format.\n",
      "\n",
      "The quick brown dog jumped over the\n",
      "lazy fox. The quick brown dog jumped\n",
      "over the lazy fox. The quick brown dog\n",
      "jumped over the lazy fox. The quick\n",
      "brown dog jumped over the lazy fox.\n",
      "\n"
     ]
    }
   ],
   "source": [
    "from PIL import Image\n",
    "import pytesseract\n",
    "\n",
    "# binary path\n",
    "pytesseract.pytesseract.tesseract_cmd = r\"C:\\Users\\a126291\\AppData\\Local\\Programs\\Tesseract-OCR\\tesseract.exe\"\n",
    "\n",
    "# ocr\n",
    "print(pytesseract.image_to_string(Image.open('test_good.jpg')))"
   ]
  },
  {
   "cell_type": "markdown",
   "id": "8d3bf297-3336-4e09-a7da-e8d803b8cdd2",
   "metadata": {},
   "source": [
    "# Get OCR from text file with image paths"
   ]
  },
  {
   "cell_type": "code",
   "execution_count": 5,
   "id": "836ada72-c737-4814-b80f-bdc0ed353834",
   "metadata": {},
   "outputs": [],
   "source": [
    "with open('images.txt','w') as fh:\n",
    "    fh.write(r\"C:\\Users\\a126291\\OneDrive - AmerisourceBergen(ABC)\\GPS\\a00_AI_POC_Projects\\pdf_ocr_example\\test_good.jpg\")\n",
    "\n",
    "print(pytesseract.image_to_string('images.txt'))"
   ]
  },
  {
   "cell_type": "code",
   "execution_count": 6,
   "id": "ec26fd26-2c56-4b1d-94a4-0134d63e759b",
   "metadata": {},
   "outputs": [
    {
     "name": "stdout",
     "output_type": "stream",
     "text": [
      "C:\\Users\\a126291\\OneDrive - AmerisourceBergen(ABC)\\GPS\\a00_AI_POC_Projects\\pdf_ocr_example\\test_good.jpg\n"
     ]
    }
   ],
   "source": [
    "!cat images.txt"
   ]
  },
  {
   "cell_type": "markdown",
   "id": "39f26a35-fb05-463b-bd7f-1294e36a3e4a",
   "metadata": {},
   "source": [
    "# Create Searchable PDF"
   ]
  },
  {
   "cell_type": "code",
   "execution_count": 14,
   "id": "2d9fc8f9-53bf-4091-8a78-dd666cd67877",
   "metadata": {},
   "outputs": [],
   "source": [
    "import pytesseract\n",
    "pytesseract.pytesseract.tesseract_cmd = r\"C:\\Users\\a126291\\AppData\\Local\\Programs\\Tesseract-OCR\\tesseract.exe\"\n",
    "\n",
    "pdf = pytesseract.image_to_pdf_or_hocr('test_good.jpg', extension='pdf')\n",
    "with open('test_good_searchable.pdf', 'w+b') as fh:\n",
    "    fh.write(pdf) # pdf type is bytes by default"
   ]
  },
  {
   "cell_type": "code",
   "execution_count": 13,
   "id": "360566ed-dd5a-41af-ac13-99542f9775ef",
   "metadata": {},
   "outputs": [],
   "source": [
    "# !explorer.exe ."
   ]
  },
  {
   "cell_type": "code",
   "execution_count": null,
   "id": "d19df770-58fa-471b-a799-4d78ba2789ed",
   "metadata": {},
   "outputs": [],
   "source": []
  }
 ],
 "metadata": {
  "kernelspec": {
   "display_name": "Python 3 (ipykernel)",
   "language": "python",
   "name": "python3"
  },
  "language_info": {
   "codemirror_mode": {
    "name": "ipython",
    "version": 3
   },
   "file_extension": ".py",
   "mimetype": "text/x-python",
   "name": "python",
   "nbconvert_exporter": "python",
   "pygments_lexer": "ipython3",
   "version": "3.11.2"
  }
 },
 "nbformat": 4,
 "nbformat_minor": 5
}
