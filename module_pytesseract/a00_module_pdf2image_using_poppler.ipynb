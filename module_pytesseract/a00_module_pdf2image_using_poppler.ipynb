{
 "cells": [
  {
   "cell_type": "markdown",
   "id": "98f810d3-2f04-4e5a-9413-b1dbd6c56117",
   "metadata": {},
   "source": [
    "# module: pdf2image (needs poppler)\n",
    "- tesseract: https://github.com/tesseract-ocr/tesseract\n",
    "- pdf2image: https://github.com/Belval/pdf2image"
   ]
  },
  {
   "cell_type": "markdown",
   "id": "4bd64bd6-3b97-4153-b8a8-74f2208d6971",
   "metadata": {},
   "source": [
    "# OCR pdf using pdf2image and tesseract"
   ]
  },
  {
   "cell_type": "code",
   "execution_count": 2,
   "id": "1698b555-c0b9-4178-8e86-2d41302f917e",
   "metadata": {},
   "outputs": [
    {
     "name": "stdout",
     "output_type": "stream",
     "text": [
      "a00_module_pdf2image_using_poppler.ipynb\n",
      "a00_module_pytesseract.ipynb\n",
      "images.txt\n",
      "ocr_eg01.ipynb\n",
      "output_folder\n",
      "test.pdf\n",
      "test_bad.jpg\n",
      "test_good.jpg\n",
      "test_good_searchable.pdf\n"
     ]
    }
   ],
   "source": [
    "!ls"
   ]
  },
  {
   "cell_type": "code",
   "execution_count": 4,
   "id": "31296dba-1731-4f67-a8e1-a5a9622f4937",
   "metadata": {},
   "outputs": [
    {
     "data": {
      "text/plain": [
       "<Popen: returncode: None args: ['start', '', 'test.pdf']>"
      ]
     },
     "execution_count": 4,
     "metadata": {},
     "output_type": "execute_result"
    }
   ],
   "source": [
    "import subprocess\n",
    "\n",
    "# subprocess.Popen(['start', '', 'test.pdf'], shell=True)"
   ]
  },
  {
   "cell_type": "code",
   "execution_count": 1,
   "id": "cc853cc9-f495-4e28-acd3-0daf50a042f2",
   "metadata": {},
   "outputs": [
    {
     "name": "stdout",
     "output_type": "stream",
     "text": [
      "TEST TEST TEST\n",
      "\n"
     ]
    }
   ],
   "source": [
    "from pdf2image import convert_from_path, convert_from_bytes\n",
    "import os\n",
    "\n",
    "# import pytesseract locally\n",
    "import sys\n",
    "sys.path.append(r\"C:\\Users\\a126291\\OneDrive - AmerisourceBergen(ABC)\\Softwares\\pytesseract\")\n",
    "\n",
    "# import pytesseract\n",
    "import pytesseract\n",
    "pytesseract.tesseract_cmd = r\"C:\\Users\\a126291\\AppData\\Local\\Programs\\Tesseract-OCR\\tesseract.exe\"\n",
    "\n",
    "# create temp output folder for pdm2image convert_from_path\n",
    "output_folder = 'output_folder'\n",
    "if not os.path.isdir(output_folder):\n",
    "    os.makedirs(output_folder)\n",
    "\n",
    "poppler_path = r\"C:\\Users\\a126291\\OneDrive - AmerisourceBergen(ABC)\\Softwares\\poppler-23.11.0\\Library\\bin\"\n",
    "images = convert_from_path('test.pdf',poppler_path=poppler_path,output_folder=output_folder)\n",
    "image = images[0]\n",
    "image_gray = image.convert(\"L\")\n",
    "\n",
    "# get ocr text from grayscale image\n",
    "text = pytesseract.image_to_string(image_gray)\n",
    "print(text)"
   ]
  },
  {
   "cell_type": "code",
   "execution_count": 6,
   "id": "bd6ae293-6daf-41f3-8a47-7165b67bcbd1",
   "metadata": {},
   "outputs": [],
   "source": [
    "with tempfile.TemporaryDirectory() as output_folder:\n",
    "    #images = convert_from_path('test.pdf',poppler_path=poppler_path,output_folder=output_folder)\n",
    "    # This gives permission error in office computer\n",
    "    pass"
   ]
  },
  {
   "cell_type": "markdown",
   "id": "389730a6-7825-440a-a31e-860989295832",
   "metadata": {},
   "source": [
    "# Example"
   ]
  },
  {
   "cell_type": "code",
   "execution_count": null,
   "id": "a9b8c0b6-fe69-49e3-8d16-3efcbb79fd34",
   "metadata": {},
   "outputs": [],
   "source": []
  }
 ],
 "metadata": {
  "kernelspec": {
   "display_name": "Python 3 (ipykernel)",
   "language": "python",
   "name": "python3"
  },
  "language_info": {
   "codemirror_mode": {
    "name": "ipython",
    "version": 3
   },
   "file_extension": ".py",
   "mimetype": "text/x-python",
   "name": "python",
   "nbconvert_exporter": "python",
   "pygments_lexer": "ipython3",
   "version": "3.11.2"
  }
 },
 "nbformat": 4,
 "nbformat_minor": 5
}
