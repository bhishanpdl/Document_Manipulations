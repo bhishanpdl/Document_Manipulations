{
 "cells": [
  {
   "cell_type": "code",
   "execution_count": 2,
   "id": "b3facf81-9982-4a83-aa29-23b9034b80db",
   "metadata": {},
   "outputs": [],
   "source": [
    "# import pytesseract locally\n",
    "import sys\n",
    "sys.path.append(r\"C:\\Users\\a126291\\OneDrive - AmerisourceBergen(ABC)\\Softwares\\pytesseract\")\n",
    "from pytesseract import pytesseract\n",
    "\n",
    "# imports\n",
    "from PIL import Image\n",
    "from pathlib import Path\n",
    "import glob"
   ]
  },
  {
   "cell_type": "code",
   "execution_count": null,
   "id": "cd9da62b-3c11-4df8-a04a-c02d8ed39037",
   "metadata": {},
   "outputs": [],
   "source": []
  },
  {
   "cell_type": "code",
   "execution_count": 3,
   "id": "11f84f22-8eec-4403-a7b3-9677134591d4",
   "metadata": {},
   "outputs": [],
   "source": [
    "# tesseract path\n",
    "path_tess = r\"C:\\Users\\a126291\\AppData\\Local\\Programs\\Tesseract-OCR\\tesseract.exe\"\n",
    "pytesseract.tesseract_cmd = path_tess\n",
    "\n",
    "if not os.path.isfile(path_tess):\n",
    "    print(\"Error\", f\"Tesseract application not installed: {path_tess}\")"
   ]
  },
  {
   "cell_type": "markdown",
   "id": "ccbb16f9-337b-4f7d-ad23-680c41e59cae",
   "metadata": {},
   "source": [
    "# using pdf2image"
   ]
  },
  {
   "cell_type": "code",
   "execution_count": 1,
   "id": "a6713f0d-fd12-4825-a534-1d23b320abd5",
   "metadata": {},
   "outputs": [],
   "source": [
    "pdf_file_path = r\"C:\\Users\\a126291\\OneDrive - AmerisourceBergen(ABC)\\data\\pdf_files\\ocr_pdf\\Drug Channels.pdf\""
   ]
  },
  {
   "cell_type": "code",
   "execution_count": 4,
   "id": "2dff9077-8deb-4ffd-a697-9956428b5d34",
   "metadata": {},
   "outputs": [
    {
     "name": "stdout",
     "output_type": "stream",
     "text": [
      "TEST TEST TEST\n",
      "\n"
     ]
    }
   ],
   "source": [
    "from pdf2image import convert_from_path, convert_from_bytes\n",
    "import os\n",
    "from tqdm import tqdm\n",
    "\n",
    "# import pytesseract\n",
    "import pytesseract\n",
    "pytesseract.tesseract_cmd = r\"C:\\Users\\a126291\\AppData\\Local\\Programs\\Tesseract-OCR\\tesseract.exe\"\n",
    "\n",
    "def get_ocr_from_pdf(path_pdf,poppler_path=None,verbose=False):\n",
    "    r'''Get OCR from image PDF document. Also works for regular PDF.\n",
    "\n",
    "    Depends:\n",
    "    =========\n",
    "    - tesseract (get installer for windows)\n",
    "    - poppler   (get binary file from github releases for Windows)\n",
    "\n",
    "    '''\n",
    "    # path to pdf file\n",
    "    path_pdf = str(path_pdf)\n",
    "\n",
    "    # create temp output folder for pdm2image convert_from_path\n",
    "    output_folder = 'temp_output_folder'\n",
    "    if not os.path.isdir(output_folder):\n",
    "        os.makedirs(output_folder)\n",
    "\n",
    "    # poppler path\n",
    "    if poppler_path is None:\n",
    "        poppler_path = r\"C:\\Users\\a126291\\OneDrive - AmerisourceBergen(ABC)\\Softwares\\poppler-23.11.0\\Library\\bin\"\n",
    "\n",
    "    # get images from pdf\n",
    "    if verbose:\n",
    "        print('Getting the images from pdf')\n",
    "    images = convert_from_path(path_pdf,poppler_path=poppler_path,output_folder=output_folder)\n",
    "    images_gray = [image.convert(\"L\") for image in images]\n",
    "    if verbose:\n",
    "        print(f'Obtained the {len(images_gray)} images')\n",
    "\n",
    "    # get ocr text from grayscale image\n",
    "    if verbose:\n",
    "        print('Getting the OCR from the grayscale images')\n",
    "        texts = []\n",
    "        for image_gray in tqdm(images_gray):\n",
    "            text = pytesseract.image_to_string(image_gray)\n",
    "            texts.append(text)\n",
    "    else:\n",
    "        texts = [pytesseract.image_to_string(image_gray) for image_gray in images_gray]\n",
    "    parsed_text = '\\n'.join(texts)\n",
    "    return parsed_text\n",
    "\n",
    "path_pdf = 'test.pdf'\n",
    "text = get_ocr_from_pdf(path_pdf)\n",
    "print(text)"
   ]
  },
  {
   "cell_type": "code",
   "execution_count": 1,
   "id": "c4fe4cde-76d3-4e98-b21b-202a3dbd320b",
   "metadata": {},
   "outputs": [],
   "source": [
    "# path_pdf = r\"C:\\Users\\a126291\\OneDrive - AmerisourceBergen(ABC)\\data\\pdf_files\\ocr_pdf\\Drug Channels.pdf\"\n",
    "# text = get_ocr_from_pdf(path_pdf,verbose=True)\n",
    "# print(text)"
   ]
  },
  {
   "cell_type": "markdown",
   "id": "f68bfbbe-8dd4-4093-9d4b-d27a1631712a",
   "metadata": {},
   "source": [
    "# Pypdf Example"
   ]
  },
  {
   "cell_type": "code",
   "execution_count": 12,
   "id": "5e9a2953-a198-4c48-801f-e2a5aac68fa9",
   "metadata": {},
   "outputs": [
    {
     "name": "stdout",
     "output_type": "stream",
     "text": [
      "The 2023 Economic Report on \n",
      "U.S. Pharmacies  and \n",
      "Pharmacy Benefit Managers  \n",
      " \n",
      " \n",
      "Adam J. Fein, Ph.\n"
     ]
    }
   ],
   "source": [
    "from PyPDF2 import PdfReader\n",
    "path_pdf = 'test.pdf'\n",
    "path_pdf = r\"C:\\Users\\a126291\\OneDrive - AmerisourceBergen(ABC)\\data\\pdf_files\\ocr_pdf\\ocr_test_small.pdf\"\n",
    "path_pdf = r\"C:\\Users\\a126291\\OneDrive - AmerisourceBergen(ABC)\\data\\pdf_files\\ocr_pdf\\Drug Channels.pdf\"\n",
    "text = \"\"\n",
    "pdf_reader = PdfReader(path_pdf)\n",
    "for page in pdf_reader.pages:\n",
    "    text += page.extract_text()\n",
    "\n",
    "print(text[:100])"
   ]
  },
  {
   "cell_type": "code",
   "execution_count": null,
   "id": "d8c501f2-be00-4649-ae97-2a40f9e07b33",
   "metadata": {},
   "outputs": [],
   "source": []
  }
 ],
 "metadata": {
  "kernelspec": {
   "display_name": "Python 3 (ipykernel)",
   "language": "python",
   "name": "python3"
  },
  "language_info": {
   "codemirror_mode": {
    "name": "ipython",
    "version": 3
   },
   "file_extension": ".py",
   "mimetype": "text/x-python",
   "name": "python",
   "nbconvert_exporter": "python",
   "pygments_lexer": "ipython3",
   "version": "3.11.2"
  }
 },
 "nbformat": 4,
 "nbformat_minor": 5
}
