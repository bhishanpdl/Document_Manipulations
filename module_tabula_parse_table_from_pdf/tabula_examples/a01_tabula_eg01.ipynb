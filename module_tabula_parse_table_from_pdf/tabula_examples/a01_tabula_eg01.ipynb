{
 "cells": [
  {
   "cell_type": "markdown",
   "id": "e54cec91-2cf0-496e-9bc8-fc00a5dfad99",
   "metadata": {},
   "source": [
    "# Introduction"
   ]
  },
  {
   "cell_type": "code",
   "execution_count": 3,
   "id": "293e745a-aa66-41a1-8916-9fc405c62d1c",
   "metadata": {
    "execution": {
     "iopub.execute_input": "2024-05-07T18:07:05.270331Z",
     "iopub.status.busy": "2024-05-07T18:07:05.269330Z",
     "iopub.status.idle": "2024-05-07T18:07:06.425053Z",
     "shell.execute_reply": "2024-05-07T18:07:06.425053Z",
     "shell.execute_reply.started": "2024-05-07T18:07:05.270331Z"
    }
   },
   "outputs": [
    {
     "name": "stdout",
     "output_type": "stream",
     "text": [
      "pip 24.0 from C:\\Users\\a126291\\venv\\py311_camelot\\Lib\\site-packages\\pip (python 3.11)\n",
      "\n"
     ]
    }
   ],
   "source": [
    "!pip --version"
   ]
  },
  {
   "cell_type": "code",
   "execution_count": 4,
   "id": "9618ba67-f994-46d2-81d4-8fa893c1f5a9",
   "metadata": {
    "execution": {
     "iopub.execute_input": "2024-05-07T18:07:06.426365Z",
     "iopub.status.busy": "2024-05-07T18:07:06.425053Z",
     "iopub.status.idle": "2024-05-07T18:07:06.429048Z",
     "shell.execute_reply": "2024-05-07T18:07:06.429031Z",
     "shell.execute_reply.started": "2024-05-07T18:07:06.426365Z"
    }
   },
   "outputs": [
    {
     "data": {
      "text/plain": [
       "'C:\\\\Users\\\\a126291\\\\venv\\\\py311_camelot\\\\Scripts\\\\python.exe'"
      ]
     },
     "execution_count": 4,
     "metadata": {},
     "output_type": "execute_result"
    }
   ],
   "source": [
    "import sys\n",
    "sys.executable"
   ]
  },
  {
   "cell_type": "code",
   "execution_count": 5,
   "id": "86163d49-1709-4e55-99a5-67b86a2dbfce",
   "metadata": {
    "execution": {
     "iopub.execute_input": "2024-05-07T18:07:06.430049Z",
     "iopub.status.busy": "2024-05-07T18:07:06.429048Z",
     "iopub.status.idle": "2024-05-07T18:07:06.467249Z",
     "shell.execute_reply": "2024-05-07T18:07:06.467249Z",
     "shell.execute_reply.started": "2024-05-07T18:07:06.430049Z"
    }
   },
   "outputs": [],
   "source": [
    "%load_ext watermark"
   ]
  },
  {
   "cell_type": "code",
   "execution_count": 6,
   "id": "9c181c2c-9ac0-4175-ada4-3a7284a48cc3",
   "metadata": {
    "execution": {
     "iopub.execute_input": "2024-05-07T18:07:06.467249Z",
     "iopub.status.busy": "2024-05-07T18:07:06.467249Z",
     "iopub.status.idle": "2024-05-07T18:07:08.661350Z",
     "shell.execute_reply": "2024-05-07T18:07:08.661350Z",
     "shell.execute_reply.started": "2024-05-07T18:07:06.467249Z"
    }
   },
   "outputs": [],
   "source": [
    "import tabula"
   ]
  },
  {
   "cell_type": "code",
   "execution_count": 7,
   "id": "e4d12874-7289-4d75-93ee-b1092e1ec9c8",
   "metadata": {
    "execution": {
     "iopub.execute_input": "2024-05-07T18:07:08.662354Z",
     "iopub.status.busy": "2024-05-07T18:07:08.662354Z",
     "iopub.status.idle": "2024-05-07T18:07:08.671098Z",
     "shell.execute_reply": "2024-05-07T18:07:08.671098Z",
     "shell.execute_reply.started": "2024-05-07T18:07:08.662354Z"
    }
   },
   "outputs": [
    {
     "name": "stdout",
     "output_type": "stream",
     "text": [
      "sys   : 3.11.7 (tags/v3.11.7:fa7a6f2, Dec  4 2023, 19:24:49) [MSC v.1937 64 bit (AMD64)]\n",
      "tabula: 2.9.0\n",
      "\n"
     ]
    }
   ],
   "source": [
    "%watermark -iv"
   ]
  },
  {
   "cell_type": "code",
   "execution_count": 8,
   "id": "5cd2baa7-1aca-4106-90af-65ddbbb09b40",
   "metadata": {
    "execution": {
     "iopub.execute_input": "2024-05-07T18:07:08.672105Z",
     "iopub.status.busy": "2024-05-07T18:07:08.672105Z",
     "iopub.status.idle": "2024-05-07T18:07:08.676428Z",
     "shell.execute_reply": "2024-05-07T18:07:08.676234Z",
     "shell.execute_reply.started": "2024-05-07T18:07:08.672105Z"
    }
   },
   "outputs": [
    {
     "data": {
      "text/plain": [
       "'C:\\\\Program Files (x86)\\\\Common Files\\\\Oracle\\\\Java'"
      ]
     },
     "execution_count": 8,
     "metadata": {},
     "output_type": "execute_result"
    }
   ],
   "source": [
    "import os\n",
    "os.getenv('JAVA_HOME')"
   ]
  },
  {
   "cell_type": "markdown",
   "id": "08c48f6f-cbb4-4a9b-b786-9cd0720b75fd",
   "metadata": {},
   "source": [
    "# Example"
   ]
  },
  {
   "cell_type": "code",
   "execution_count": 9,
   "id": "c01131b6-795b-4702-a34b-7b741614c856",
   "metadata": {
    "execution": {
     "iopub.execute_input": "2024-05-07T18:07:08.677547Z",
     "iopub.status.busy": "2024-05-07T18:07:08.677547Z",
     "iopub.status.idle": "2024-05-07T18:07:08.686316Z",
     "shell.execute_reply": "2024-05-07T18:07:08.686316Z",
     "shell.execute_reply.started": "2024-05-07T18:07:08.677547Z"
    }
   },
   "outputs": [],
   "source": [
    "path_pdf = r\"C:\\Users\\a126291\\OneDrive - AmerisourceBergen(ABC)\\data\\a00_office_files\\pdf_with_tables\\lifileucel.pdf\""
   ]
  },
  {
   "cell_type": "code",
   "execution_count": 10,
   "id": "35340b0c-71d4-4001-b64c-4183253f4ed6",
   "metadata": {
    "execution": {
     "iopub.execute_input": "2024-05-07T18:07:08.686316Z",
     "iopub.status.busy": "2024-05-07T18:07:08.686316Z",
     "iopub.status.idle": "2024-05-07T18:07:38.714014Z",
     "shell.execute_reply": "2024-05-07T18:07:38.714014Z",
     "shell.execute_reply.started": "2024-05-07T18:07:08.686316Z"
    }
   },
   "outputs": [],
   "source": [
    "tables = tabula.read_pdf(path_pdf, pages=\"all\", stream=True, silent=True)"
   ]
  },
  {
   "cell_type": "code",
   "execution_count": 12,
   "id": "2c2733b1-c890-4b76-ab9b-2c8dd107dc89",
   "metadata": {
    "execution": {
     "iopub.execute_input": "2024-05-07T18:08:05.673331Z",
     "iopub.status.busy": "2024-05-07T18:08:05.673331Z",
     "iopub.status.idle": "2024-05-07T18:08:05.678511Z",
     "shell.execute_reply": "2024-05-07T18:08:05.678511Z",
     "shell.execute_reply.started": "2024-05-07T18:08:05.673331Z"
    }
   },
   "outputs": [
    {
     "data": {
      "text/plain": [
       "175"
      ]
     },
     "execution_count": 12,
     "metadata": {},
     "output_type": "execute_result"
    }
   ],
   "source": [
    "len(tables)"
   ]
  },
  {
   "cell_type": "code",
   "execution_count": 13,
   "id": "afe59ce4-ff69-4486-9978-d14135573484",
   "metadata": {
    "execution": {
     "iopub.execute_input": "2024-05-07T18:08:14.538958Z",
     "iopub.status.busy": "2024-05-07T18:08:14.538958Z",
     "iopub.status.idle": "2024-05-07T18:08:14.542006Z",
     "shell.execute_reply": "2024-05-07T18:08:14.542006Z",
     "shell.execute_reply.started": "2024-05-07T18:08:14.538958Z"
    }
   },
   "outputs": [
    {
     "data": {
      "text/plain": [
       "pandas.core.frame.DataFrame"
      ]
     },
     "execution_count": 13,
     "metadata": {},
     "output_type": "execute_result"
    }
   ],
   "source": [
    "type(tables[0])"
   ]
  },
  {
   "cell_type": "code",
   "execution_count": 14,
   "id": "05397306-17cb-4fa0-b872-4fffa8de6e1c",
   "metadata": {
    "execution": {
     "iopub.execute_input": "2024-05-07T18:08:23.358125Z",
     "iopub.status.busy": "2024-05-07T18:08:23.358125Z",
     "iopub.status.idle": "2024-05-07T18:08:23.372830Z",
     "shell.execute_reply": "2024-05-07T18:08:23.372830Z",
     "shell.execute_reply.started": "2024-05-07T18:08:23.358125Z"
    }
   },
   "outputs": [
    {
     "data": {
      "text/html": [
       "<div>\n",
       "<style scoped>\n",
       "    .dataframe tbody tr th:only-of-type {\n",
       "        vertical-align: middle;\n",
       "    }\n",
       "\n",
       "    .dataframe tbody tr th {\n",
       "        vertical-align: top;\n",
       "    }\n",
       "\n",
       "    .dataframe thead th {\n",
       "        text-align: right;\n",
       "    }\n",
       "</style>\n",
       "<table border=\"1\" class=\"dataframe\">\n",
       "  <thead>\n",
       "    <tr style=\"text-align: right;\">\n",
       "      <th></th>\n",
       "      <th>Clinical Trial Information</th>\n",
       "    </tr>\n",
       "  </thead>\n",
       "  <tbody>\n",
       "    <tr>\n",
       "      <th>0</th>\n",
       "      <td>Trial Title Study of Lifileucel (LN-144), Auto...</td>\n",
       "    </tr>\n",
       "    <tr>\n",
       "      <th>1</th>\n",
       "      <td>Treatment of Patients with Metastatic Melanoma...</td>\n",
       "    </tr>\n",
       "    <tr>\n",
       "      <th>2</th>\n",
       "      <td>Drug(s)/Molecule(s) lifileucel; Trial Identifi...</td>\n",
       "    </tr>\n",
       "    <tr>\n",
       "      <th>3</th>\n",
       "      <td>Secondary ID(s) NCT02360579; C-144-01;GDC40003...</td>\n",
       "    </tr>\n",
       "    <tr>\n",
       "      <th>4</th>\n",
       "      <td>01957;CDR769149;2017-000760-15;EudraCT-2017-00...</td>\n",
       "    </tr>\n",
       "    <tr>\n",
       "      <th>5</th>\n",
       "      <td>54117;S16-00804;UKCTG-39529;2017-02031;BASEC2017-</td>\n",
       "    </tr>\n",
       "    <tr>\n",
       "      <th>6</th>\n",
       "      <td>02031;EUCTR2017-000760-15;SNCTP000002819;2017-...</td>\n",
       "    </tr>\n",
       "    <tr>\n",
       "      <th>7</th>\n",
       "      <td>Sponsor (s) Iovance Biotherapeutics Inc Indica...</td>\n",
       "    </tr>\n",
       "    <tr>\n",
       "      <th>8</th>\n",
       "      <td>Melanoma</td>\n",
       "    </tr>\n",
       "    <tr>\n",
       "      <th>9</th>\n",
       "      <td>Trial Status Completed Trial Phase Phase II</td>\n",
       "    </tr>\n",
       "    <tr>\n",
       "      <th>10</th>\n",
       "      <td>Approved Health France: National Agency of Med...</td>\n",
       "    </tr>\n",
       "    <tr>\n",
       "      <th>11</th>\n",
       "      <td>Authority</td>\n",
       "    </tr>\n",
       "    <tr>\n",
       "      <th>12</th>\n",
       "      <td>Hungary: National Institute of Pharmacy (NIP);...</td>\n",
       "    </tr>\n",
       "    <tr>\n",
       "      <th>13</th>\n",
       "      <td>Medicines and Medical Devices (AEMPS); United ...</td>\n",
       "    </tr>\n",
       "    <tr>\n",
       "      <th>14</th>\n",
       "      <td>Healthcare products Regulatory Agency (MHRA)</td>\n",
       "    </tr>\n",
       "    <tr>\n",
       "      <th>15</th>\n",
       "      <td>Secondary aldesleukin, Cytoxan, fludarabine ph...</td>\n",
       "    </tr>\n",
       "    <tr>\n",
       "      <th>16</th>\n",
       "      <td>Intervention</td>\n",
       "    </tr>\n",
       "  </tbody>\n",
       "</table>\n",
       "</div>"
      ],
      "text/plain": [
       "                           Clinical Trial Information\n",
       "0   Trial Title Study of Lifileucel (LN-144), Auto...\n",
       "1   Treatment of Patients with Metastatic Melanoma...\n",
       "2   Drug(s)/Molecule(s) lifileucel; Trial Identifi...\n",
       "3   Secondary ID(s) NCT02360579; C-144-01;GDC40003...\n",
       "4   01957;CDR769149;2017-000760-15;EudraCT-2017-00...\n",
       "5   54117;S16-00804;UKCTG-39529;2017-02031;BASEC2017-\n",
       "6   02031;EUCTR2017-000760-15;SNCTP000002819;2017-...\n",
       "7   Sponsor (s) Iovance Biotherapeutics Inc Indica...\n",
       "8                                            Melanoma\n",
       "9         Trial Status Completed Trial Phase Phase II\n",
       "10  Approved Health France: National Agency of Med...\n",
       "11                                          Authority\n",
       "12  Hungary: National Institute of Pharmacy (NIP);...\n",
       "13  Medicines and Medical Devices (AEMPS); United ...\n",
       "14       Healthcare products Regulatory Agency (MHRA)\n",
       "15  Secondary aldesleukin, Cytoxan, fludarabine ph...\n",
       "16                                       Intervention"
      ]
     },
     "execution_count": 14,
     "metadata": {},
     "output_type": "execute_result"
    }
   ],
   "source": [
    "df = tables[0]\n",
    "df"
   ]
  },
  {
   "cell_type": "markdown",
   "id": "8b43a2b7-fd31-4f23-9845-66092448c187",
   "metadata": {},
   "source": [
    "# Script"
   ]
  },
  {
   "cell_type": "code",
   "execution_count": 36,
   "id": "0c5ef520-a2e2-4039-b1b7-3beb268994ec",
   "metadata": {
    "execution": {
     "iopub.execute_input": "2024-05-07T18:38:34.616167Z",
     "iopub.status.busy": "2024-05-07T18:38:34.616167Z",
     "iopub.status.idle": "2024-05-07T18:38:34.639967Z",
     "shell.execute_reply": "2024-05-07T18:38:34.639967Z",
     "shell.execute_reply.started": "2024-05-07T18:38:34.616167Z"
    }
   },
   "outputs": [
    {
     "name": "stdout",
     "output_type": "stream",
     "text": [
      "Overwriting test_tabula.py\n"
     ]
    }
   ],
   "source": [
    "%%writefile test_tabula.py\n",
    "import sys\n",
    "print(sys.executable)\n",
    "\n",
    "import tabula\n",
    "print(f\"{tabula.__version__=}\")\n",
    "\n",
    "print('\\nMake sure JAVA is installed and JAVA_HOME is set to use the module tabula.')\n",
    "import os\n",
    "print(os.getenv('JAVA_HOME'))\n",
    "print()\n",
    "\n",
    "path_pdf = r\"C:\\Users\\a126291\\OneDrive - AmerisourceBergen(ABC)\\data\\pdf_files\\pdf_with_data_tables\\non_scan_pdf_with_text_and_table_from_camelot.pdf\"\n",
    "\n",
    "tables = tabula.read_pdf(path_pdf, pages=\"all\", stream=True, silent=True)\n",
    "num_tables = len(tables)\n",
    "print(f\"Found: {num_tables} tables (tabula gives pandas dataframes)\")\n",
    "\n",
    "table = tables[0]\n",
    "print(f\"{type(table)=}\")\n",
    "print(table.head())"
   ]
  },
  {
   "cell_type": "code",
   "execution_count": 32,
   "id": "c547f36c-4f61-4a4c-94f6-5385cf35a549",
   "metadata": {
    "execution": {
     "iopub.execute_input": "2024-05-07T18:23:45.975392Z",
     "iopub.status.busy": "2024-05-07T18:23:45.975392Z",
     "iopub.status.idle": "2024-05-07T18:23:46.251623Z",
     "shell.execute_reply": "2024-05-07T18:23:46.251623Z",
     "shell.execute_reply.started": "2024-05-07T18:23:45.975392Z"
    }
   },
   "outputs": [
    {
     "name": "stdout",
     "output_type": "stream",
     "text": [
      "C:\\Users\\a126291\\venv\\py311_camelot\\Scripts\\python.exe\n"
     ]
    }
   ],
   "source": [
    "!ls \"C:\\Users\\a126291\\venv\\py311_camelot\\Scripts\\python.exe\""
   ]
  },
  {
   "cell_type": "code",
   "execution_count": 33,
   "id": "4da820d4-f316-4460-968d-958e931c17a5",
   "metadata": {
    "execution": {
     "iopub.execute_input": "2024-05-07T18:23:47.130747Z",
     "iopub.status.busy": "2024-05-07T18:23:47.130747Z",
     "iopub.status.idle": "2024-05-07T18:23:49.899909Z",
     "shell.execute_reply": "2024-05-07T18:23:49.899909Z",
     "shell.execute_reply.started": "2024-05-07T18:23:47.130747Z"
    }
   },
   "outputs": [
    {
     "name": "stdout",
     "output_type": "stream",
     "text": [
      "C:\\Users\\a126291\\venv\\py311_camelot\\Scripts\\python.exe\n",
      "tabula.__version__='2.9.0'\n",
      "\n",
      "Make sure JAVA is installed and JAVA_HOME is set to use the module tabula.\n",
      "C:\\Program Files (x86)\\Common Files\\Oracle\\Java\n",
      "\n",
      "Found: 1 tables (pandas dataframes.)\n",
      "  Unnamed: 0 Unnamed: 1 Unnamed: 2 Unnamed: 3 Percent Fuel Savings Unnamed: 4\n",
      "0      Cycle         KI   Distance        NaN                  NaN        NaN\n",
      "1       Name     (1/km)       (mi)   Improved  Decreased Eliminate  Decreased\n",
      "2        NaN        NaN        NaN      Speed          Accel Stops       Idle\n",
      "3     2012_2       3.30        1.3       5.9%           9.5% 29.2%      17.4%\n",
      "4     2145_1       0.68       11.2       2.4%            0.1% 9.5%       2.7%\n"
     ]
    }
   ],
   "source": [
    "! \"C:\\Users\\a126291\\venv\\py311_camelot\\Scripts\\python.exe\" test_tabula.py"
   ]
  },
  {
   "cell_type": "code",
   "execution_count": null,
   "id": "5b7f5e2a-d05c-4015-9ee3-e4956572cc47",
   "metadata": {},
   "outputs": [],
   "source": []
  }
 ],
 "metadata": {
  "kernelspec": {
   "display_name": "Python 3 (ipykernel)",
   "language": "python",
   "name": "python3"
  },
  "language_info": {
   "codemirror_mode": {
    "name": "ipython",
    "version": 3
   },
   "file_extension": ".py",
   "mimetype": "text/x-python",
   "name": "python",
   "nbconvert_exporter": "python",
   "pygments_lexer": "ipython3",
   "version": "3.11.7"
  }
 },
 "nbformat": 4,
 "nbformat_minor": 5
}
