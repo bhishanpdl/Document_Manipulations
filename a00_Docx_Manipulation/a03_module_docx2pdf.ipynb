{
 "cells": [
  {
   "cell_type": "markdown",
   "id": "7382e74a-33f5-467e-846e-ebcc115f62aa",
   "metadata": {},
   "source": [
    "# Introduction"
   ]
  },
  {
   "cell_type": "code",
   "execution_count": 3,
   "id": "80e63738-21ac-4054-9683-6319e35dc772",
   "metadata": {},
   "outputs": [],
   "source": [
    "import docx2pdf"
   ]
  },
  {
   "cell_type": "code",
   "execution_count": 2,
   "id": "362603b2-b645-4c1b-9016-30daa30b8247",
   "metadata": {},
   "outputs": [],
   "source": [
    "%load_ext watermark"
   ]
  },
  {
   "cell_type": "code",
   "execution_count": 4,
   "id": "8d4ee4c0-0a75-4d0e-ab20-c6b5331d5d8a",
   "metadata": {},
   "outputs": [
    {
     "name": "stdout",
     "output_type": "stream",
     "text": [
      "docx2pdf: 0.1.8\n",
      "\n"
     ]
    }
   ],
   "source": [
    "%watermark -iv"
   ]
  },
  {
   "cell_type": "code",
   "execution_count": 5,
   "id": "791e7455-c946-4499-aff0-7d0bb412508f",
   "metadata": {},
   "outputs": [
    {
     "name": "stdout",
     "output_type": "stream",
     "text": [
      "pip 24.0 from C:\\Users\\a126291\\venv\\py311pandasai\\Lib\\site-packages\\pip (python 3.11)\n",
      "\n"
     ]
    }
   ],
   "source": [
    "!pip --version"
   ]
  },
  {
   "cell_type": "markdown",
   "id": "a0475b49-28ec-49e5-aaf1-65073508ec5f",
   "metadata": {},
   "source": [
    "# Convert docx to pdf using module docx2pdf"
   ]
  },
  {
   "cell_type": "code",
   "execution_count": 6,
   "id": "a3bee475-73cb-4b8b-89f1-06ef12c1174a",
   "metadata": {},
   "outputs": [
    {
     "data": {
      "application/vnd.jupyter.widget-view+json": {
       "model_id": "d3985293ef724048a199bb03c91dd68c",
       "version_major": 2,
       "version_minor": 0
      },
      "text/plain": [
       "  0%|          | 0/1 [00:00<?, ?it/s]"
      ]
     },
     "metadata": {},
     "output_type": "display_data"
    }
   ],
   "source": [
    "import docx2pdf\n",
    "\n",
    "path_input = r\"C:\\Users\\a126291\\OneDrive - AmerisourceBergen(ABC)\\data\\documents\\docx\\handbook-872p.docx\"\n",
    "path_output = 'output.pdf'\n",
    "\n",
    "# docx2pdf.convert(path_input) # same path\n",
    "# docx2pdf.conver(\"path_of_docx/\")\n",
    "\n",
    "docx2pdf.convert(path_input, path_output)"
   ]
  },
  {
   "cell_type": "code",
   "execution_count": null,
   "id": "c7a6e24b-8f71-4f1b-9ca5-db2fe6de4039",
   "metadata": {},
   "outputs": [],
   "source": []
  }
 ],
 "metadata": {
  "kernelspec": {
   "display_name": "Python 3 (ipykernel)",
   "language": "python",
   "name": "python3"
  },
  "language_info": {
   "codemirror_mode": {
    "name": "ipython",
    "version": 3
   },
   "file_extension": ".py",
   "mimetype": "text/x-python",
   "name": "python",
   "nbconvert_exporter": "python",
   "pygments_lexer": "ipython3",
   "version": "3.11.7"
  }
 },
 "nbformat": 4,
 "nbformat_minor": 5
}
