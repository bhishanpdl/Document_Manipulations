{
 "cells": [
  {
   "cell_type": "markdown",
   "id": "aa05ec9e-4f06-4006-985d-2a45093d204e",
   "metadata": {},
   "source": [
    "# Introduction"
   ]
  },
  {
   "cell_type": "code",
   "execution_count": 9,
   "id": "8496c2f2-f437-46c9-a487-e821f852c3e1",
   "metadata": {},
   "outputs": [],
   "source": [
    "import os\n",
    "import win32com\n",
    "from win32com import client\n",
    "import docx\n",
    "import docx2pdf"
   ]
  },
  {
   "cell_type": "code",
   "execution_count": 2,
   "id": "8b98d991-4b55-466e-8f17-06356f06537f",
   "metadata": {},
   "outputs": [],
   "source": [
    "%load_ext watermark"
   ]
  },
  {
   "cell_type": "code",
   "execution_count": 3,
   "id": "88f35a23-af5e-4561-8216-b1bdd2298420",
   "metadata": {},
   "outputs": [
    {
     "name": "stdout",
     "output_type": "stream",
     "text": [
      "\n"
     ]
    }
   ],
   "source": [
    "%watermark -iv"
   ]
  },
  {
   "cell_type": "code",
   "execution_count": 4,
   "id": "48cac1d3-c2a9-439a-add4-b15c1bc09f67",
   "metadata": {},
   "outputs": [
    {
     "name": "stdout",
     "output_type": "stream",
     "text": [
      "pip 24.0 from C:\\Users\\a126291\\venv\\py311pandasai\\Lib\\site-packages\\pip (python 3.11)\n",
      "\n"
     ]
    }
   ],
   "source": [
    "!pip --version"
   ]
  },
  {
   "cell_type": "markdown",
   "id": "e49835ca-0e89-4e42-a700-d8237c05572b",
   "metadata": {},
   "source": [
    "# Read docx file using win32"
   ]
  },
  {
   "cell_type": "code",
   "execution_count": 8,
   "id": "43078547-75b3-459d-bab4-f0fc251400b4",
   "metadata": {},
   "outputs": [
    {
     "name": "stdout",
     "output_type": "stream",
     "text": [
      "First page, tab here:\tfollowed by line-break here:\u000b",
      "here:\u000b",
      "and here:\n",
      "no-break hyphen here:\u001e",
      "and hard pa\n"
     ]
    }
   ],
   "source": [
    "import win32com\n",
    "import win32com.client\n",
    "\n",
    "def docReader(doc_file_name):\n",
    "    ## 1) Initiate an object that interfaces to Word\n",
    "    word = win32com.client.Dispatch(\"Word.Application\")\n",
    "    word.Visible = False\n",
    "\n",
    "    ## 2) Open the Word document to read in\n",
    "    _ = word.Documents.Open(doc_file_name)\n",
    "\n",
    "    ## 3) Extract the paragraphs and close the connections\n",
    "    doc = word.ActiveDocument\n",
    "    paras = doc.Range().text\n",
    "    doc.Close()\n",
    "    word.Quit()\n",
    "    return paras\n",
    "\n",
    "# usage\n",
    "path_docx = r\"C:\\Users\\a126291\\OneDrive - AmerisourceBergen(ABC)\\data\\documents\\docx\\page-breaks.docx\"\n",
    "doc_out = docReader(path_docx)\n",
    "lst_paras = [i for i in doc_out.replace('\\x07', '\\r').split('\\r') if i]\n",
    "parsed_text = '\\n'.join(lst_paras)\n",
    "print(parsed_text[:100])"
   ]
  },
  {
   "cell_type": "code",
   "execution_count": null,
   "id": "cd3358c2-756d-48c0-b986-83a02faab106",
   "metadata": {},
   "outputs": [],
   "source": []
  },
  {
   "cell_type": "code",
   "execution_count": null,
   "id": "fdf7290f-7fab-4870-8792-17ab4583a154",
   "metadata": {},
   "outputs": [],
   "source": []
  }
 ],
 "metadata": {
  "kernelspec": {
   "display_name": "Python 3 (ipykernel)",
   "language": "python",
   "name": "python3"
  },
  "language_info": {
   "codemirror_mode": {
    "name": "ipython",
    "version": 3
   },
   "file_extension": ".py",
   "mimetype": "text/x-python",
   "name": "python",
   "nbconvert_exporter": "python",
   "pygments_lexer": "ipython3",
   "version": "3.11.7"
  }
 },
 "nbformat": 4,
 "nbformat_minor": 5
}
