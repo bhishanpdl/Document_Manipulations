{
 "cells": [
  {
   "cell_type": "markdown",
   "id": "64726879-a3c8-4d07-b37c-cae227342b22",
   "metadata": {},
   "source": [
    "# Introduction\n",
    "- https://towardsdatascience.com/4-simple-ways-to-import-word-and-pdf-files-into-python-when-pandas-fails-43cf81599461\n",
    "- https://github.com/YiLi225/Import_PDF_Word_Python"
   ]
  },
  {
   "cell_type": "code",
   "execution_count": 27,
   "id": "3f9862cc-73f0-4515-bc5b-7b2fa52d80dc",
   "metadata": {},
   "outputs": [],
   "source": [
    "import os\n",
    "import win32com\n",
    "from win32com import client\n",
    "\n",
    "import docx2pdf\n",
    "import docx\n",
    "import win32com"
   ]
  },
  {
   "cell_type": "code",
   "execution_count": 22,
   "id": "3468f6c8-9482-4494-ade3-479ac7abbb43",
   "metadata": {},
   "outputs": [
    {
     "name": "stdout",
     "output_type": "stream",
     "text": [
      "The watermark extension is already loaded. To reload it, use:\n",
      "  %reload_ext watermark\n"
     ]
    }
   ],
   "source": [
    "%load_ext watermark"
   ]
  },
  {
   "cell_type": "code",
   "execution_count": 23,
   "id": "164a2946-022e-4010-9a05-105d283cb318",
   "metadata": {},
   "outputs": [
    {
     "name": "stdout",
     "output_type": "stream",
     "text": [
      "docx    : 1.1.0\n",
      "docx2pdf: 0.1.8\n",
      "\n"
     ]
    }
   ],
   "source": [
    "%watermark -iv"
   ]
  },
  {
   "cell_type": "code",
   "execution_count": 24,
   "id": "8849f57a-b445-4c30-898a-f1de31994379",
   "metadata": {},
   "outputs": [
    {
     "name": "stdout",
     "output_type": "stream",
     "text": [
      "pip 24.0 from C:\\Users\\a126291\\venv\\py311pandasai\\Lib\\site-packages\\pip (python 3.11)\n",
      "\n"
     ]
    }
   ],
   "source": [
    "!pip --version"
   ]
  },
  {
   "cell_type": "markdown",
   "id": "b1cd9d33-7061-4126-a9ac-f8b924ace54a",
   "metadata": {},
   "source": [
    "# Read docx files using module docx"
   ]
  },
  {
   "cell_type": "code",
   "execution_count": 8,
   "id": "361201a5-6c87-46f3-a045-b9b077def3b6",
   "metadata": {},
   "outputs": [],
   "source": [
    "import docx"
   ]
  },
  {
   "cell_type": "code",
   "execution_count": 17,
   "id": "dbcd3641-476b-401a-a688-dea0056716e5",
   "metadata": {},
   "outputs": [],
   "source": [
    "doc = docx.Document(path_input)\n",
    "lst_paras = [p.text for p in doc.paragraphs if p.text]"
   ]
  },
  {
   "cell_type": "code",
   "execution_count": 19,
   "id": "c6a9616f-099d-482f-a9c6-6b4e0f83a77e",
   "metadata": {},
   "outputs": [
    {
     "name": "stdout",
     "output_type": "stream",
     "text": [
      "U.S. Department of Justice\n",
      "Executive Office for United States Trustees\t\t         \t\t\t\t   \n",
      "Handbook fo\n"
     ]
    }
   ],
   "source": [
    "parsed_text = '\\n'.join(lst_paras)\n",
    "print(parsed_text[:100])"
   ]
  },
  {
   "cell_type": "markdown",
   "id": "9474e6c4-be13-42f7-a7ca-fdbfbf24a2e9",
   "metadata": {},
   "source": [
    "# Read docx file using win32"
   ]
  },
  {
   "cell_type": "code",
   "execution_count": 20,
   "id": "257d699f-97ba-45f2-87f0-c7216b7ce121",
   "metadata": {},
   "outputs": [],
   "source": [
    "import win32com\n",
    "\n",
    "word = win32com.client.Dispatch(\"Word.Application\")\n",
    "word.Visible = False"
   ]
  },
  {
   "cell_type": "code",
   "execution_count": null,
   "id": "08223602-139d-4e32-89d3-2591c5195ad2",
   "metadata": {},
   "outputs": [],
   "source": []
  },
  {
   "cell_type": "code",
   "execution_count": null,
   "id": "6815bc31-56c6-4599-b904-5ad53cd43ba1",
   "metadata": {},
   "outputs": [],
   "source": []
  },
  {
   "cell_type": "code",
   "execution_count": 26,
   "id": "b947a48f-f49a-4df4-ab81-32c40f3fe937",
   "metadata": {},
   "outputs": [
    {
     "name": "stdout",
     "output_type": "stream",
     "text": [
      "U.S. Department of Justice\n",
      "Executive Office for United States Trustees\t\t         \t\t\t\t   \n",
      "Handbook fo\n"
     ]
    }
   ],
   "source": [
    "def docReader(doc_file_name):\n",
    "    ## 1) Initiate an object that interfaces to Word\n",
    "    word = win32com.client.Dispatch(\"Word.Application\")\n",
    "    word.Visible = False\n",
    "\n",
    "    ## 2) Open the Word document to read in\n",
    "    _ = word.Documents.Open(doc_file_name)\n",
    "\n",
    "    ## 3) Extract the paragraphs and close the connections\n",
    "    doc = word.ActiveDocument\n",
    "    paras = doc.Range().text\n",
    "    doc.Close()\n",
    "    word.Quit()\n",
    "    return paras\n",
    "\n",
    "# usage\n",
    "doc_out = docReader(path_input)\n",
    "lst_paras = [i for i in doc_out.replace('\\x07', '\\r').split('\\r') if i]\n",
    "parsed_text = '\\n'.join(lst_paras)\n",
    "print(parsed_text[:100])"
   ]
  },
  {
   "cell_type": "code",
   "execution_count": null,
   "id": "aa033907-d879-440e-a99f-6af34197e91b",
   "metadata": {},
   "outputs": [],
   "source": []
  },
  {
   "cell_type": "code",
   "execution_count": null,
   "id": "cda4aac1-20be-4c9d-b914-43c534a95a8e",
   "metadata": {},
   "outputs": [],
   "source": []
  },
  {
   "cell_type": "markdown",
   "id": "147633ac-7be1-473e-8541-628abf41b27b",
   "metadata": {},
   "source": [
    "# Convert docx to pdf using module docx2pdf"
   ]
  },
  {
   "cell_type": "code",
   "execution_count": null,
   "id": "5c7061ef-a788-45cd-8fa0-a87727669105",
   "metadata": {},
   "outputs": [],
   "source": [
    "import docx2pdf\n",
    "\n",
    "path_input = r\"C:\\Users\\a126291\\OneDrive - AmerisourceBergen(ABC)\\data\\documents\\docx\\handbook-872p.docx\"\n",
    "path_output = 'output.pdf'\n",
    "\n",
    "# docx2pdf.convert(path_input) # same path\n",
    "# docx2pdf.conver(\"path_of_docx/\")\n",
    "\n",
    "docx2pdf.convert(path_input, path_output)"
   ]
  },
  {
   "cell_type": "code",
   "execution_count": null,
   "id": "4713b860-ef1b-4d17-90ef-efc461e7db10",
   "metadata": {},
   "outputs": [],
   "source": []
  },
  {
   "cell_type": "code",
   "execution_count": null,
   "id": "72fb10a2-84c9-45ff-a1d5-e1fbd30051af",
   "metadata": {},
   "outputs": [],
   "source": []
  }
 ],
 "metadata": {
  "kernelspec": {
   "display_name": "Python 3 (ipykernel)",
   "language": "python",
   "name": "python3"
  },
  "language_info": {
   "codemirror_mode": {
    "name": "ipython",
    "version": 3
   },
   "file_extension": ".py",
   "mimetype": "text/x-python",
   "name": "python",
   "nbconvert_exporter": "python",
   "pygments_lexer": "ipython3",
   "version": "3.11.7"
  }
 },
 "nbformat": 4,
 "nbformat_minor": 5
}
