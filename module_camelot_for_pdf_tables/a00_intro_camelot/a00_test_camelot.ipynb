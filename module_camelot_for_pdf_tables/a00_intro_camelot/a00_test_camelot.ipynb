{
 "cells": [
  {
   "cell_type": "markdown",
   "id": "b53f9ad1-7d0d-4072-adfe-ab0acb90c39b",
   "metadata": {},
   "source": [
    "# Introduction\n",
    "- https://camelot-py.readthedocs.io/en/master/user/how-it-works.html#stream"
   ]
  },
  {
   "cell_type": "code",
   "execution_count": 12,
   "id": "771b32b3-0172-414a-a3d1-8d7b18cdc396",
   "metadata": {
    "execution": {
     "iopub.execute_input": "2024-05-07T18:50:13.692919Z",
     "iopub.status.busy": "2024-05-07T18:50:13.692420Z",
     "iopub.status.idle": "2024-05-07T18:50:13.695487Z",
     "shell.execute_reply": "2024-05-07T18:50:13.695487Z",
     "shell.execute_reply.started": "2024-05-07T18:50:13.692919Z"
    }
   },
   "outputs": [
    {
     "name": "stdout",
     "output_type": "stream",
     "text": [
      "C:\\Users\\a126291\\venv\\py311_camelot\\Scripts\\python.exe\n"
     ]
    }
   ],
   "source": [
    "import sys\n",
    "print(sys.executable)"
   ]
  },
  {
   "cell_type": "code",
   "execution_count": 14,
   "id": "e0e9d83d-f7b8-4d8b-96d6-7dd337f63b01",
   "metadata": {
    "execution": {
     "iopub.execute_input": "2024-05-07T18:50:40.317027Z",
     "iopub.status.busy": "2024-05-07T18:50:40.317027Z",
     "iopub.status.idle": "2024-05-07T18:50:40.320282Z",
     "shell.execute_reply": "2024-05-07T18:50:40.320282Z",
     "shell.execute_reply.started": "2024-05-07T18:50:40.317027Z"
    }
   },
   "outputs": [
    {
     "name": "stdout",
     "output_type": "stream",
     "text": [
      "The watermark extension is already loaded. To reload it, use:\n",
      "  %reload_ext watermark\n"
     ]
    }
   ],
   "source": [
    "%load_ext watermark"
   ]
  },
  {
   "cell_type": "code",
   "execution_count": 15,
   "id": "438faf8b-d59f-4c5b-a9ba-f44157368174",
   "metadata": {
    "execution": {
     "iopub.execute_input": "2024-05-07T18:50:45.886563Z",
     "iopub.status.busy": "2024-05-07T18:50:45.884463Z",
     "iopub.status.idle": "2024-05-07T18:50:45.888477Z",
     "shell.execute_reply": "2024-05-07T18:50:45.888477Z",
     "shell.execute_reply.started": "2024-05-07T18:50:45.886563Z"
    }
   },
   "outputs": [],
   "source": [
    "import camelot"
   ]
  },
  {
   "cell_type": "code",
   "execution_count": 16,
   "id": "b3c2f5b5-95b7-4b7b-b07e-ac867235d72f",
   "metadata": {
    "execution": {
     "iopub.execute_input": "2024-05-07T18:50:51.912171Z",
     "iopub.status.busy": "2024-05-07T18:50:51.912171Z",
     "iopub.status.idle": "2024-05-07T18:50:51.924761Z",
     "shell.execute_reply": "2024-05-07T18:50:51.924761Z",
     "shell.execute_reply.started": "2024-05-07T18:50:51.912171Z"
    }
   },
   "outputs": [
    {
     "name": "stdout",
     "output_type": "stream",
     "text": [
      "sys    : 3.11.7 (tags/v3.11.7:fa7a6f2, Dec  4 2023, 19:24:49) [MSC v.1937 64 bit (AMD64)]\n",
      "camelot: 0.11.0\n",
      "\n"
     ]
    }
   ],
   "source": [
    "%watermark -iv"
   ]
  },
  {
   "cell_type": "markdown",
   "id": "e5e14a86-d164-4e26-ae6f-83dfce53d690",
   "metadata": {},
   "source": [
    "# Examples"
   ]
  },
  {
   "cell_type": "code",
   "execution_count": 29,
   "id": "68e4173a-1e6b-4697-aad8-2602dc85fc0f",
   "metadata": {
    "execution": {
     "iopub.execute_input": "2024-05-07T18:56:19.364610Z",
     "iopub.status.busy": "2024-05-07T18:56:19.364610Z",
     "iopub.status.idle": "2024-05-07T18:56:20.047604Z",
     "shell.execute_reply": "2024-05-07T18:56:20.047262Z",
     "shell.execute_reply.started": "2024-05-07T18:56:19.364610Z"
    }
   },
   "outputs": [
    {
     "name": "stdout",
     "output_type": "stream",
     "text": [
      "1\n",
      "<TableList n=1>\n"
     ]
    }
   ],
   "source": [
    "import camelot\n",
    "tables = camelot.read_pdf('foo.pdf',flavor='lattice') # flavor='lattice' if tables have cell border, otherwise 'stream'\n",
    "print(len(tables))\n",
    "print(tables)"
   ]
  },
  {
   "cell_type": "code",
   "execution_count": 18,
   "id": "c4b7f1d3-7af3-4f98-a810-732b6f73e4e9",
   "metadata": {
    "execution": {
     "iopub.execute_input": "2024-05-07T18:51:29.359025Z",
     "iopub.status.busy": "2024-05-07T18:51:29.359025Z",
     "iopub.status.idle": "2024-05-07T18:51:29.377431Z",
     "shell.execute_reply": "2024-05-07T18:51:29.377431Z",
     "shell.execute_reply.started": "2024-05-07T18:51:29.359025Z"
    }
   },
   "outputs": [],
   "source": [
    "tables.export('foo.csv', f='csv', compress=True) # json, excel, html, markdown, sqlite"
   ]
  },
  {
   "cell_type": "code",
   "execution_count": 19,
   "id": "67aaffde-7bd0-43bd-93d0-9cc2a2999392",
   "metadata": {
    "execution": {
     "iopub.execute_input": "2024-05-07T18:51:34.796184Z",
     "iopub.status.busy": "2024-05-07T18:51:34.796184Z",
     "iopub.status.idle": "2024-05-07T18:51:34.800257Z",
     "shell.execute_reply": "2024-05-07T18:51:34.800257Z",
     "shell.execute_reply.started": "2024-05-07T18:51:34.796184Z"
    }
   },
   "outputs": [
    {
     "data": {
      "text/plain": [
       "<Table shape=(7, 7)>"
      ]
     },
     "execution_count": 19,
     "metadata": {},
     "output_type": "execute_result"
    }
   ],
   "source": [
    "tables[0]"
   ]
  },
  {
   "cell_type": "code",
   "execution_count": 20,
   "id": "4676d4b2-c605-4381-9de5-6cfc3076bcd5",
   "metadata": {
    "execution": {
     "iopub.execute_input": "2024-05-07T18:51:41.529234Z",
     "iopub.status.busy": "2024-05-07T18:51:41.529234Z",
     "iopub.status.idle": "2024-05-07T18:51:41.536616Z",
     "shell.execute_reply": "2024-05-07T18:51:41.536616Z",
     "shell.execute_reply.started": "2024-05-07T18:51:41.529234Z"
    }
   },
   "outputs": [
    {
     "data": {
      "text/plain": [
       "{'accuracy': 99.02, 'whitespace': 12.24, 'order': 1, 'page': 1}"
      ]
     },
     "execution_count": 20,
     "metadata": {},
     "output_type": "execute_result"
    }
   ],
   "source": [
    "tables[0].parsing_report"
   ]
  },
  {
   "cell_type": "code",
   "execution_count": 21,
   "id": "e8b5fb4b-5b1d-4b48-89d4-4a7245a56458",
   "metadata": {
    "execution": {
     "iopub.execute_input": "2024-05-07T18:51:48.429146Z",
     "iopub.status.busy": "2024-05-07T18:51:48.429146Z",
     "iopub.status.idle": "2024-05-07T18:51:48.438692Z",
     "shell.execute_reply": "2024-05-07T18:51:48.438692Z",
     "shell.execute_reply.started": "2024-05-07T18:51:48.429146Z"
    }
   },
   "outputs": [],
   "source": [
    "tables[0].to_csv('foo.csv') # to_json, to_excel, to_html, to_markdown, to_sqlite"
   ]
  },
  {
   "cell_type": "code",
   "execution_count": 22,
   "id": "078111d0-e325-4435-b61e-052cfa7240ec",
   "metadata": {
    "execution": {
     "iopub.execute_input": "2024-05-07T18:51:49.616603Z",
     "iopub.status.busy": "2024-05-07T18:51:49.616603Z",
     "iopub.status.idle": "2024-05-07T18:51:49.622688Z",
     "shell.execute_reply": "2024-05-07T18:51:49.622688Z",
     "shell.execute_reply.started": "2024-05-07T18:51:49.616603Z"
    }
   },
   "outputs": [
    {
     "data": {
      "text/html": [
       "<div>\n",
       "<style scoped>\n",
       "    .dataframe tbody tr th:only-of-type {\n",
       "        vertical-align: middle;\n",
       "    }\n",
       "\n",
       "    .dataframe tbody tr th {\n",
       "        vertical-align: top;\n",
       "    }\n",
       "\n",
       "    .dataframe thead th {\n",
       "        text-align: right;\n",
       "    }\n",
       "</style>\n",
       "<table border=\"1\" class=\"dataframe\">\n",
       "  <thead>\n",
       "    <tr style=\"text-align: right;\">\n",
       "      <th></th>\n",
       "      <th>0</th>\n",
       "      <th>1</th>\n",
       "      <th>2</th>\n",
       "      <th>3</th>\n",
       "      <th>4</th>\n",
       "      <th>5</th>\n",
       "      <th>6</th>\n",
       "    </tr>\n",
       "  </thead>\n",
       "  <tbody>\n",
       "    <tr>\n",
       "      <th>0</th>\n",
       "      <td>Cycle \\nName</td>\n",
       "      <td>KI \\n(1/km)</td>\n",
       "      <td>Distance \\n(mi)</td>\n",
       "      <td>Percent Fuel Savings</td>\n",
       "      <td></td>\n",
       "      <td></td>\n",
       "      <td></td>\n",
       "    </tr>\n",
       "    <tr>\n",
       "      <th>1</th>\n",
       "      <td></td>\n",
       "      <td></td>\n",
       "      <td></td>\n",
       "      <td>Improved \\nSpeed</td>\n",
       "      <td>Decreased \\nAccel</td>\n",
       "      <td>Eliminate \\nStops</td>\n",
       "      <td>Decreased \\nIdle</td>\n",
       "    </tr>\n",
       "    <tr>\n",
       "      <th>2</th>\n",
       "      <td>2012_2</td>\n",
       "      <td>3.30</td>\n",
       "      <td>1.3</td>\n",
       "      <td>5.9%</td>\n",
       "      <td>9.5%</td>\n",
       "      <td>29.2%</td>\n",
       "      <td>17.4%</td>\n",
       "    </tr>\n",
       "    <tr>\n",
       "      <th>3</th>\n",
       "      <td>2145_1</td>\n",
       "      <td>0.68</td>\n",
       "      <td>11.2</td>\n",
       "      <td>2.4%</td>\n",
       "      <td>0.1%</td>\n",
       "      <td>9.5%</td>\n",
       "      <td>2.7%</td>\n",
       "    </tr>\n",
       "    <tr>\n",
       "      <th>4</th>\n",
       "      <td>4234_1</td>\n",
       "      <td>0.59</td>\n",
       "      <td>58.7</td>\n",
       "      <td>8.5%</td>\n",
       "      <td>1.3%</td>\n",
       "      <td>8.5%</td>\n",
       "      <td>3.3%</td>\n",
       "    </tr>\n",
       "    <tr>\n",
       "      <th>5</th>\n",
       "      <td>2032_2</td>\n",
       "      <td>0.17</td>\n",
       "      <td>57.8</td>\n",
       "      <td>21.7%</td>\n",
       "      <td>0.3%</td>\n",
       "      <td>2.7%</td>\n",
       "      <td>1.2%</td>\n",
       "    </tr>\n",
       "    <tr>\n",
       "      <th>6</th>\n",
       "      <td>4171_1</td>\n",
       "      <td>0.07</td>\n",
       "      <td>173.9</td>\n",
       "      <td>58.1%</td>\n",
       "      <td>1.6%</td>\n",
       "      <td>2.1%</td>\n",
       "      <td>0.5%</td>\n",
       "    </tr>\n",
       "  </tbody>\n",
       "</table>\n",
       "</div>"
      ],
      "text/plain": [
       "              0            1                2                     3  \\\n",
       "0  Cycle \\nName  KI \\n(1/km)  Distance \\n(mi)  Percent Fuel Savings   \n",
       "1                                                  Improved \\nSpeed   \n",
       "2        2012_2         3.30              1.3                  5.9%   \n",
       "3        2145_1         0.68             11.2                  2.4%   \n",
       "4        4234_1         0.59             58.7                  8.5%   \n",
       "5        2032_2         0.17             57.8                 21.7%   \n",
       "6        4171_1         0.07            173.9                 58.1%   \n",
       "\n",
       "                   4                  5                 6  \n",
       "0                                                          \n",
       "1  Decreased \\nAccel  Eliminate \\nStops  Decreased \\nIdle  \n",
       "2               9.5%              29.2%             17.4%  \n",
       "3               0.1%               9.5%              2.7%  \n",
       "4               1.3%               8.5%              3.3%  \n",
       "5               0.3%               2.7%              1.2%  \n",
       "6               1.6%               2.1%              0.5%  "
      ]
     },
     "execution_count": 22,
     "metadata": {},
     "output_type": "execute_result"
    }
   ],
   "source": [
    "tables[0].df # get a pandas DataFrame!"
   ]
  },
  {
   "cell_type": "code",
   "execution_count": 23,
   "id": "d2d2a463-6443-4ec7-aaff-491a60f5e253",
   "metadata": {
    "execution": {
     "iopub.execute_input": "2024-05-07T18:52:23.499513Z",
     "iopub.status.busy": "2024-05-07T18:52:23.499513Z",
     "iopub.status.idle": "2024-05-07T18:52:23.504823Z",
     "shell.execute_reply": "2024-05-07T18:52:23.504823Z",
     "shell.execute_reply.started": "2024-05-07T18:52:23.499513Z"
    }
   },
   "outputs": [
    {
     "name": "stdout",
     "output_type": "stream",
     "text": [
      "['accuracy', 'cells', 'cols', 'data', 'df', 'flavor', 'order', 'page', 'parsing_report', 'rows', 'set_all_edges', 'set_border', 'set_edges', 'set_span', 'shape', 'to_csv', 'to_excel', 'to_html', 'to_json', 'to_markdown', 'to_sqlite', 'whitespace']\n"
     ]
    }
   ],
   "source": [
    "print([i for i in dir(tables[0]) if i[0]!='_'])"
   ]
  },
  {
   "cell_type": "code",
   "execution_count": 24,
   "id": "af954de9-8c08-4f29-ad54-28a41c42d28a",
   "metadata": {
    "execution": {
     "iopub.execute_input": "2024-05-07T18:52:40.973764Z",
     "iopub.status.busy": "2024-05-07T18:52:40.973764Z",
     "iopub.status.idle": "2024-05-07T18:52:40.987445Z",
     "shell.execute_reply": "2024-05-07T18:52:40.987445Z",
     "shell.execute_reply.started": "2024-05-07T18:52:40.973764Z"
    }
   },
   "outputs": [
    {
     "data": {
      "text/plain": [
       "camelot.core.Table"
      ]
     },
     "execution_count": 24,
     "metadata": {},
     "output_type": "execute_result"
    }
   ],
   "source": [
    "table = tables[0]\n",
    "type(table)"
   ]
  },
  {
   "cell_type": "code",
   "execution_count": 25,
   "id": "ceebbf18-eb7c-4121-964c-c1d151dc79f0",
   "metadata": {
    "execution": {
     "iopub.execute_input": "2024-05-07T18:52:48.574055Z",
     "iopub.status.busy": "2024-05-07T18:52:48.573644Z",
     "iopub.status.idle": "2024-05-07T18:52:48.577029Z",
     "shell.execute_reply": "2024-05-07T18:52:48.577029Z",
     "shell.execute_reply.started": "2024-05-07T18:52:48.574055Z"
    }
   },
   "outputs": [
    {
     "data": {
      "text/plain": [
       "99.02369482929429"
      ]
     },
     "execution_count": 25,
     "metadata": {},
     "output_type": "execute_result"
    }
   ],
   "source": [
    "table.accuracy"
   ]
  },
  {
   "cell_type": "code",
   "execution_count": 26,
   "id": "a30d7b9b-7819-4b9d-a3ab-5aafaefe4aa3",
   "metadata": {
    "execution": {
     "iopub.execute_input": "2024-05-07T18:52:59.774270Z",
     "iopub.status.busy": "2024-05-07T18:52:59.773715Z",
     "iopub.status.idle": "2024-05-07T18:52:59.777512Z",
     "shell.execute_reply": "2024-05-07T18:52:59.777512Z",
     "shell.execute_reply.started": "2024-05-07T18:52:59.774270Z"
    }
   },
   "outputs": [
    {
     "data": {
      "text/plain": [
       "[(120.47812499999999, 164.64),\n",
       " (164.64, 204.95999999999998),\n",
       " (204.95999999999998, 257.52),\n",
       " (257.52, 313.2),\n",
       " (313.2, 374.64),\n",
       " (374.64, 430.08),\n",
       " (430.08, 491.64)]"
      ]
     },
     "execution_count": 26,
     "metadata": {},
     "output_type": "execute_result"
    }
   ],
   "source": [
    "table.cols"
   ]
  },
  {
   "cell_type": "code",
   "execution_count": 27,
   "id": "e30300a9-07b8-4217-b579-b32604b8bdb7",
   "metadata": {
    "execution": {
     "iopub.execute_input": "2024-05-07T18:53:07.293682Z",
     "iopub.status.busy": "2024-05-07T18:53:07.293682Z",
     "iopub.status.idle": "2024-05-07T18:53:07.297357Z",
     "shell.execute_reply": "2024-05-07T18:53:07.297357Z",
     "shell.execute_reply.started": "2024-05-07T18:53:07.293682Z"
    }
   },
   "outputs": [
    {
     "data": {
      "text/plain": [
       "[['Cycle \\nName',\n",
       "  'KI \\n(1/km)',\n",
       "  'Distance \\n(mi)',\n",
       "  'Percent Fuel Savings',\n",
       "  '',\n",
       "  '',\n",
       "  ''],\n",
       " ['',\n",
       "  '',\n",
       "  '',\n",
       "  'Improved \\nSpeed',\n",
       "  'Decreased \\nAccel',\n",
       "  'Eliminate \\nStops',\n",
       "  'Decreased \\nIdle'],\n",
       " ['2012_2', '3.30', '1.3', '5.9%', '9.5%', '29.2%', '17.4%'],\n",
       " ['2145_1', '0.68', '11.2', '2.4%', '0.1%', '9.5%', '2.7%'],\n",
       " ['4234_1', '0.59', '58.7', '8.5%', '1.3%', '8.5%', '3.3%'],\n",
       " ['2032_2', '0.17', '57.8', '21.7%', '0.3%', '2.7%', '1.2%'],\n",
       " ['4171_1', '0.07', '173.9', '58.1%', '1.6%', '2.1%', '0.5%']]"
      ]
     },
     "execution_count": 27,
     "metadata": {},
     "output_type": "execute_result"
    }
   ],
   "source": [
    "table.data"
   ]
  },
  {
   "cell_type": "code",
   "execution_count": 28,
   "id": "65421f43-3c9f-44de-acd9-f03b18ed20d2",
   "metadata": {
    "execution": {
     "iopub.execute_input": "2024-05-07T18:53:18.301101Z",
     "iopub.status.busy": "2024-05-07T18:53:18.301101Z",
     "iopub.status.idle": "2024-05-07T18:53:18.310271Z",
     "shell.execute_reply": "2024-05-07T18:53:18.310271Z",
     "shell.execute_reply.started": "2024-05-07T18:53:18.301101Z"
    }
   },
   "outputs": [
    {
     "data": {
      "text/plain": [
       "'lattice'"
      ]
     },
     "execution_count": 28,
     "metadata": {},
     "output_type": "execute_result"
    }
   ],
   "source": [
    "table.flavor"
   ]
  },
  {
   "cell_type": "code",
   "execution_count": null,
   "id": "68a69055-5000-4418-a69d-4ff41bdd594d",
   "metadata": {},
   "outputs": [],
   "source": []
  },
  {
   "cell_type": "code",
   "execution_count": null,
   "id": "2aeca45c-c18e-45fc-8a97-df5e16096695",
   "metadata": {},
   "outputs": [],
   "source": []
  },
  {
   "cell_type": "markdown",
   "id": "548d13aa-dd85-4b87-b855-53e3eedba7ab",
   "metadata": {},
   "source": [
    "# Script"
   ]
  },
  {
   "cell_type": "code",
   "execution_count": 11,
   "id": "3cd486b9-4f2d-447b-a55d-18d4506a99d7",
   "metadata": {
    "execution": {
     "iopub.execute_input": "2024-05-07T18:34:06.031479Z",
     "iopub.status.busy": "2024-05-07T18:34:06.030479Z",
     "iopub.status.idle": "2024-05-07T18:34:06.044685Z",
     "shell.execute_reply": "2024-05-07T18:34:06.044685Z",
     "shell.execute_reply.started": "2024-05-07T18:34:06.031479Z"
    }
   },
   "outputs": [
    {
     "name": "stdout",
     "output_type": "stream",
     "text": [
      "Overwriting test_camelot.py\n"
     ]
    }
   ],
   "source": [
    "%%writefile test_camelot.py\n",
    "import sys\n",
    "print(sys.executable)\n",
    "\n",
    "import camelot\n",
    "print(f\"{camelot.__version__=}\")\n",
    "\n",
    "path_pdf = r\"C:\\Users\\a126291\\OneDrive - AmerisourceBergen(ABC)\\data\\pdf_files\\pdf_with_data_tables\\non_scan_pdf_with_text_and_table_from_camelot.pdf\"\n",
    "\n",
    "tables = camelot.read_pdf(path_pdf)\n",
    "num_tables = len(tables)\n",
    "print(f\"Found: {num_tables} tables (pandas dataframes.)\")\n",
    "\n",
    "table = tables[0]\n",
    "print(f\"{type(table)=}\")\n",
    "\n",
    "# save all tables (using export, or single table using .to_csv, .to_json, etc)\n",
    "tables.export('foo.csv', f='csv', compress=True) # json, excel, html, markdown, sqlite (compress creates .zip)"
   ]
  },
  {
   "cell_type": "code",
   "execution_count": 5,
   "id": "82f049ff-f376-403f-a201-c6a43b2c07a7",
   "metadata": {
    "execution": {
     "iopub.execute_input": "2024-05-07T18:30:37.794625Z",
     "iopub.status.busy": "2024-05-07T18:30:37.794625Z",
     "iopub.status.idle": "2024-05-07T18:30:37.803565Z",
     "shell.execute_reply": "2024-05-07T18:30:37.803565Z",
     "shell.execute_reply.started": "2024-05-07T18:30:37.794625Z"
    }
   },
   "outputs": [
    {
     "data": {
      "text/html": [
       "<div>\n",
       "<style scoped>\n",
       "    .dataframe tbody tr th:only-of-type {\n",
       "        vertical-align: middle;\n",
       "    }\n",
       "\n",
       "    .dataframe tbody tr th {\n",
       "        vertical-align: top;\n",
       "    }\n",
       "\n",
       "    .dataframe thead th {\n",
       "        text-align: right;\n",
       "    }\n",
       "</style>\n",
       "<table border=\"1\" class=\"dataframe\">\n",
       "  <thead>\n",
       "    <tr style=\"text-align: right;\">\n",
       "      <th></th>\n",
       "      <th>0</th>\n",
       "      <th>1</th>\n",
       "      <th>2</th>\n",
       "      <th>3</th>\n",
       "      <th>4</th>\n",
       "      <th>5</th>\n",
       "      <th>6</th>\n",
       "    </tr>\n",
       "  </thead>\n",
       "  <tbody>\n",
       "    <tr>\n",
       "      <th>0</th>\n",
       "      <td>Cycle \\nName</td>\n",
       "      <td>KI \\n(1/km)</td>\n",
       "      <td>Distance \\n(mi)</td>\n",
       "      <td>Percent Fuel Savings</td>\n",
       "      <td></td>\n",
       "      <td></td>\n",
       "      <td></td>\n",
       "    </tr>\n",
       "    <tr>\n",
       "      <th>1</th>\n",
       "      <td></td>\n",
       "      <td></td>\n",
       "      <td></td>\n",
       "      <td>Improved \\nSpeed</td>\n",
       "      <td>Decreased \\nAccel</td>\n",
       "      <td>Eliminate \\nStops</td>\n",
       "      <td>Decreased \\nIdle</td>\n",
       "    </tr>\n",
       "    <tr>\n",
       "      <th>2</th>\n",
       "      <td>2012_2</td>\n",
       "      <td>3.30</td>\n",
       "      <td>1.3</td>\n",
       "      <td>5.9%</td>\n",
       "      <td>9.5%</td>\n",
       "      <td>29.2%</td>\n",
       "      <td>17.4%</td>\n",
       "    </tr>\n",
       "    <tr>\n",
       "      <th>3</th>\n",
       "      <td>2145_1</td>\n",
       "      <td>0.68</td>\n",
       "      <td>11.2</td>\n",
       "      <td>2.4%</td>\n",
       "      <td>0.1%</td>\n",
       "      <td>9.5%</td>\n",
       "      <td>2.7%</td>\n",
       "    </tr>\n",
       "    <tr>\n",
       "      <th>4</th>\n",
       "      <td>4234_1</td>\n",
       "      <td>0.59</td>\n",
       "      <td>58.7</td>\n",
       "      <td>8.5%</td>\n",
       "      <td>1.3%</td>\n",
       "      <td>8.5%</td>\n",
       "      <td>3.3%</td>\n",
       "    </tr>\n",
       "    <tr>\n",
       "      <th>5</th>\n",
       "      <td>2032_2</td>\n",
       "      <td>0.17</td>\n",
       "      <td>57.8</td>\n",
       "      <td>21.7%</td>\n",
       "      <td>0.3%</td>\n",
       "      <td>2.7%</td>\n",
       "      <td>1.2%</td>\n",
       "    </tr>\n",
       "    <tr>\n",
       "      <th>6</th>\n",
       "      <td>4171_1</td>\n",
       "      <td>0.07</td>\n",
       "      <td>173.9</td>\n",
       "      <td>58.1%</td>\n",
       "      <td>1.6%</td>\n",
       "      <td>2.1%</td>\n",
       "      <td>0.5%</td>\n",
       "    </tr>\n",
       "  </tbody>\n",
       "</table>\n",
       "</div>"
      ],
      "text/plain": [
       "              0            1                2                     3  \\\n",
       "0  Cycle \\nName  KI \\n(1/km)  Distance \\n(mi)  Percent Fuel Savings   \n",
       "1                                                  Improved \\nSpeed   \n",
       "2        2012_2         3.30              1.3                  5.9%   \n",
       "3        2145_1         0.68             11.2                  2.4%   \n",
       "4        4234_1         0.59             58.7                  8.5%   \n",
       "5        2032_2         0.17             57.8                 21.7%   \n",
       "6        4171_1         0.07            173.9                 58.1%   \n",
       "\n",
       "                   4                  5                 6  \n",
       "0                                                          \n",
       "1  Decreased \\nAccel  Eliminate \\nStops  Decreased \\nIdle  \n",
       "2               9.5%              29.2%             17.4%  \n",
       "3               0.1%               9.5%              2.7%  \n",
       "4               1.3%               8.5%              3.3%  \n",
       "5               0.3%               2.7%              1.2%  \n",
       "6               1.6%               2.1%              0.5%  "
      ]
     },
     "execution_count": 5,
     "metadata": {},
     "output_type": "execute_result"
    }
   ],
   "source": [
    "table.df"
   ]
  },
  {
   "cell_type": "code",
   "execution_count": 6,
   "id": "371df3bc-ad0c-4bea-bde9-87cabec14fb7",
   "metadata": {
    "execution": {
     "iopub.execute_input": "2024-05-07T18:31:02.634870Z",
     "iopub.status.busy": "2024-05-07T18:31:02.634870Z",
     "iopub.status.idle": "2024-05-07T18:31:02.638725Z",
     "shell.execute_reply": "2024-05-07T18:31:02.638725Z",
     "shell.execute_reply.started": "2024-05-07T18:31:02.634870Z"
    }
   },
   "outputs": [
    {
     "data": {
      "text/plain": [
       "[['Cycle \\nName',\n",
       "  'KI \\n(1/km)',\n",
       "  'Distance \\n(mi)',\n",
       "  'Percent Fuel Savings',\n",
       "  '',\n",
       "  '',\n",
       "  ''],\n",
       " ['',\n",
       "  '',\n",
       "  '',\n",
       "  'Improved \\nSpeed',\n",
       "  'Decreased \\nAccel',\n",
       "  'Eliminate \\nStops',\n",
       "  'Decreased \\nIdle'],\n",
       " ['2012_2', '3.30', '1.3', '5.9%', '9.5%', '29.2%', '17.4%'],\n",
       " ['2145_1', '0.68', '11.2', '2.4%', '0.1%', '9.5%', '2.7%'],\n",
       " ['4234_1', '0.59', '58.7', '8.5%', '1.3%', '8.5%', '3.3%'],\n",
       " ['2032_2', '0.17', '57.8', '21.7%', '0.3%', '2.7%', '1.2%'],\n",
       " ['4171_1', '0.07', '173.9', '58.1%', '1.6%', '2.1%', '0.5%']]"
      ]
     },
     "execution_count": 6,
     "metadata": {},
     "output_type": "execute_result"
    }
   ],
   "source": [
    "table.data"
   ]
  },
  {
   "cell_type": "code",
   "execution_count": 7,
   "id": "fe697d42-6270-4deb-855a-ff157f36633f",
   "metadata": {
    "execution": {
     "iopub.execute_input": "2024-05-07T18:31:33.284430Z",
     "iopub.status.busy": "2024-05-07T18:31:33.284430Z",
     "iopub.status.idle": "2024-05-07T18:31:33.294401Z",
     "shell.execute_reply": "2024-05-07T18:31:33.294401Z",
     "shell.execute_reply.started": "2024-05-07T18:31:33.284430Z"
    }
   },
   "outputs": [
    {
     "data": {
      "text/plain": [
       "(7, 7)"
      ]
     },
     "execution_count": 7,
     "metadata": {},
     "output_type": "execute_result"
    }
   ],
   "source": [
    "table.shape"
   ]
  },
  {
   "cell_type": "code",
   "execution_count": 9,
   "id": "b98ac376-6554-40f2-824c-784062ec442c",
   "metadata": {
    "execution": {
     "iopub.execute_input": "2024-05-07T18:31:49.906045Z",
     "iopub.status.busy": "2024-05-07T18:31:49.905046Z",
     "iopub.status.idle": "2024-05-07T18:31:49.908787Z",
     "shell.execute_reply": "2024-05-07T18:31:49.908787Z",
     "shell.execute_reply.started": "2024-05-07T18:31:49.906045Z"
    }
   },
   "outputs": [
    {
     "data": {
      "text/plain": [
       "(7, 7)"
      ]
     },
     "execution_count": 9,
     "metadata": {},
     "output_type": "execute_result"
    }
   ],
   "source": [
    "table.df.shape"
   ]
  },
  {
   "cell_type": "code",
   "execution_count": null,
   "id": "e088f268-8890-4f15-8708-d24eb9a6a7d3",
   "metadata": {},
   "outputs": [],
   "source": []
  }
 ],
 "metadata": {
  "kernelspec": {
   "display_name": "Python 3 (ipykernel)",
   "language": "python",
   "name": "python3"
  },
  "language_info": {
   "codemirror_mode": {
    "name": "ipython",
    "version": 3
   },
   "file_extension": ".py",
   "mimetype": "text/x-python",
   "name": "python",
   "nbconvert_exporter": "python",
   "pygments_lexer": "ipython3",
   "version": "3.11.7"
  }
 },
 "nbformat": 4,
 "nbformat_minor": 5
}
