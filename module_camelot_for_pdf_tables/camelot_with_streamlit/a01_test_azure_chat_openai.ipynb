{
 "cells": [
  {
   "cell_type": "markdown",
   "id": "d90666d5-a9dd-4100-9aca-2ab719856be8",
   "metadata": {},
   "source": [
    "# Config"
   ]
  },
  {
   "cell_type": "code",
   "execution_count": 14,
   "id": "efd29343-5df0-44fe-b9ea-eb5287881f3e",
   "metadata": {
    "execution": {
     "iopub.execute_input": "2024-04-18T19:11:22.421056Z",
     "iopub.status.busy": "2024-04-18T19:11:22.421056Z",
     "iopub.status.idle": "2024-04-18T19:11:22.432459Z",
     "shell.execute_reply": "2024-04-18T19:11:22.432459Z",
     "shell.execute_reply.started": "2024-04-18T19:11:22.421056Z"
    }
   },
   "outputs": [
    {
     "name": "stdout",
     "output_type": "stream",
     "text": [
      "Setting environment for: openai\n",
      "\n",
      "\n"
     ]
    },
    {
     "data": {
      "text/plain": [
       "'bhishan.poudel@cencora.com'"
      ]
     },
     "execution_count": 14,
     "metadata": {},
     "output_type": "execute_result"
    }
   ],
   "source": [
    "# get config\n",
    "import os,sys\n",
    "sys.path.append(os.path.expanduser(\"~/.utils\"))\n",
    "from util_openai import get_config_dict\n",
    "config = get_config_dict(env='openai')\n",
    "config['ab_email']"
   ]
  },
  {
   "cell_type": "code",
   "execution_count": 15,
   "id": "aa7804a3-731d-4978-adfb-3e107189337e",
   "metadata": {
    "execution": {
     "iopub.execute_input": "2024-04-18T19:11:22.433457Z",
     "iopub.status.busy": "2024-04-18T19:11:22.433457Z",
     "iopub.status.idle": "2024-04-18T19:11:22.436465Z",
     "shell.execute_reply": "2024-04-18T19:11:22.436465Z",
     "shell.execute_reply.started": "2024-04-18T19:11:22.433457Z"
    }
   },
   "outputs": [],
   "source": [
    "import os\n",
    "import sys\n",
    "from langchain.chains import LLMChain\n",
    "from langchain.prompts import PromptTemplate\n",
    "from langchain.prompts.prompt import PromptTemplate\n",
    "from langchain.llms import AzureOpenAI\n",
    "from langchain.chat_models import AzureChatOpenAI"
   ]
  },
  {
   "cell_type": "markdown",
   "id": "af66797e-5c1d-4a56-a360-ce9567e3e5c7",
   "metadata": {},
   "source": [
    "# Test: AzureChatOpenAI (Both: model_name=\"text-davinci-002\" or \"gpt-35-turbo-16k\" works.)"
   ]
  },
  {
   "cell_type": "markdown",
   "id": "6dbb97d3-ce98-4f47-ad42-0b96f3d1ab21",
   "metadata": {},
   "source": [
    "```python\n",
    "class AzureChatOpenAI(*,\n",
    "    verbose: bool = None,\n",
    "    callbacks: Union[List[langchain.callbacks.base.BaseCallbackHandler], langchain.callbacks.base.BaseCallbackManager, NoneType] = None,\n",
    "    callback_manager: Optional[langchain.callbacks.base.BaseCallbackManager] = None,\n",
    "    tags: Optional[List[str]] = None,\n",
    "    client: Any = None,\n",
    "\n",
    "    \n",
    "    model: str = 'gpt-3.5-turbo',\n",
    "    temperature: float = 0.7,\n",
    "    model_kwargs: Dict[str, Any] = None,\n",
    "    openai_api_key: str = '',\n",
    "    openai_api_base: str = '',\n",
    "\n",
    "    \n",
    "    openai_organization: str = '',\n",
    "    openai_proxy: str = '',\n",
    "    request_timeout: Union[float, Tuple[float, float], NoneType] = None,\n",
    "    max_retries: int = 6,\n",
    "    streaming: bool = False,\n",
    "    n: int = 1,\n",
    "    max_tokens: Optional[int] = None,\n",
    "\n",
    "    \n",
    "    deployment_name: str = '',\n",
    "    openai_api_type: str = 'azure',\n",
    "    openai_api_version: str = ''\n",
    "\n",
    "    \n",
    "    ) -> None\n",
    "```"
   ]
  },
  {
   "cell_type": "code",
   "execution_count": 16,
   "id": "38d486e0-11d2-43bd-ba5c-c8d231af6a54",
   "metadata": {
    "execution": {
     "iopub.execute_input": "2024-04-18T19:11:22.437466Z",
     "iopub.status.busy": "2024-04-18T19:11:22.436465Z",
     "iopub.status.idle": "2024-04-18T19:11:25.444218Z",
     "shell.execute_reply": "2024-04-18T19:11:25.444218Z",
     "shell.execute_reply.started": "2024-04-18T19:11:22.437466Z"
    }
   },
   "outputs": [
    {
     "name": "stderr",
     "output_type": "stream",
     "text": [
      "C:\\Users\\a126291\\venv\\py311_camelot\\Lib\\site-packages\\langchain_community\\chat_models\\azure_openai.py:167: UserWarning: As of openai>=1.0.0, Azure endpoints should be specified via the `azure_endpoint` param not `openai_api_base` (or alias `base_url`). Updating `openai_api_base` from https://cencoragaidev-bhakadc4hreqbthb.z01.azurefd.net/gpsdatascience_dev to https://cencoragaidev-bhakadc4hreqbthb.z01.azurefd.net/gpsdatascience_dev/openai.\n",
      "  warnings.warn(\n",
      "C:\\Users\\a126291\\venv\\py311_camelot\\Lib\\site-packages\\langchain_community\\chat_models\\azure_openai.py:174: UserWarning: As of openai>=1.0.0, if `deployment_name` (or alias `azure_deployment`) is specified then `openai_api_base` (or alias `base_url`) should not be. Instead use `deployment_name` (or alias `azure_deployment`) and `azure_endpoint`.\n",
      "  warnings.warn(\n",
      "C:\\Users\\a126291\\venv\\py311_camelot\\Lib\\site-packages\\langchain_community\\chat_models\\azure_openai.py:182: UserWarning: As of openai>=1.0.0, if `openai_api_base` (or alias `base_url`) is specified it is expected to be of the form https://example-resource.azure.openai.com/openai/deployments/example-deployment. Updating https://cencoragaidev-bhakadc4hreqbthb.z01.azurefd.net/gpsdatascience_dev to https://cencoragaidev-bhakadc4hreqbthb.z01.azurefd.net/gpsdatascience_dev/openai.\n",
      "  warnings.warn(\n"
     ]
    },
    {
     "name": "stdout",
     "output_type": "stream",
     "text": [
      "Some of the competitors of AmerisourceBergen include:\n",
      "\n",
      "1. McKesson Corporation\n",
      "2. Cardinal Health\n",
      "3. Owens & Minor\n",
      "4. CVS Health\n",
      "5. Walgreens Boots Alliance\n",
      "6. Express Scripts\n",
      "7. Henry Schein\n",
      "8. Medline Industries\n",
      "9. Patterson Companies\n",
      "10. H.D. Smith\n"
     ]
    }
   ],
   "source": [
    "import os\n",
    "import sys\n",
    "\n",
    "from langchain.chains import LLMChain\n",
    "from langchain.prompts import PromptTemplate\n",
    "from langchain.prompts.prompt import PromptTemplate\n",
    "from langchain.chat_models import AzureChatOpenAI\n",
    "\n",
    "# config\n",
    "os.environ['OPENAI_API_TYPE']=\"azure\"\n",
    "os.environ['OPENAI_API_VERSION']=\"2023-03-15-preview\"\n",
    "os.environ['OPENAI_API_BASE']=\"https://cencoragaidev-bhakadc4hreqbthb.z01.azurefd.net/gpsdatascience_dev/\"\n",
    "os.environ['OPENAI_API_KEY'] = \"242ad9b0c6d84b5fb4307061d5f05a86\"\n",
    "\n",
    "# Azure Chat example\n",
    "template = \"\"\"{question}\\n\\n\"\"\"\n",
    "\n",
    "prompt = PromptTemplate(input_variables=[\"question\"], template=template)\n",
    "\n",
    "llm = AzureChatOpenAI(openai_api_type=\"azure\",\n",
    "                openai_api_key=\"242ad9b0c6d84b5fb4307061d5f05a86\",\n",
    "                deployment_name='gpt-35-turbo-16k',\n",
    "                model_name=\"gpt-35-turbo-16k\",\n",
    "                openai_api_base=\"https://cencoragaidev-bhakadc4hreqbthb.z01.azurefd.net/gpsdatascience_dev\",\n",
    "                openai_api_version=\"2023-03-15-preview\"\n",
    "                  )\n",
    "\n",
    "chain = LLMChain(llm=llm, prompt=prompt)\n",
    "query = \"What are the competitors of AmerisourceBergen?\"\n",
    "response = chain.run(query)\n",
    "print(response)"
   ]
  },
  {
   "cell_type": "code",
   "execution_count": 17,
   "id": "eaedb637-9dba-4fa6-b416-c51e94759bc2",
   "metadata": {
    "execution": {
     "iopub.execute_input": "2024-04-18T19:11:25.445710Z",
     "iopub.status.busy": "2024-04-18T19:11:25.445141Z",
     "iopub.status.idle": "2024-04-18T19:11:29.267858Z",
     "shell.execute_reply": "2024-04-18T19:11:29.267858Z",
     "shell.execute_reply.started": "2024-04-18T19:11:25.445710Z"
    }
   },
   "outputs": [
    {
     "name": "stderr",
     "output_type": "stream",
     "text": [
      "C:\\Users\\a126291\\venv\\py311_camelot\\Lib\\site-packages\\langchain_community\\chat_models\\azure_openai.py:167: UserWarning: As of openai>=1.0.0, Azure endpoints should be specified via the `azure_endpoint` param not `openai_api_base` (or alias `base_url`). Updating `openai_api_base` from https://cencoragaidev-bhakadc4hreqbthb.z01.azurefd.net/gpsdatascience_dev to https://cencoragaidev-bhakadc4hreqbthb.z01.azurefd.net/gpsdatascience_dev/openai.\n",
      "  warnings.warn(\n",
      "C:\\Users\\a126291\\venv\\py311_camelot\\Lib\\site-packages\\langchain_community\\chat_models\\azure_openai.py:174: UserWarning: As of openai>=1.0.0, if `deployment_name` (or alias `azure_deployment`) is specified then `openai_api_base` (or alias `base_url`) should not be. Instead use `deployment_name` (or alias `azure_deployment`) and `azure_endpoint`.\n",
      "  warnings.warn(\n",
      "C:\\Users\\a126291\\venv\\py311_camelot\\Lib\\site-packages\\langchain_community\\chat_models\\azure_openai.py:182: UserWarning: As of openai>=1.0.0, if `openai_api_base` (or alias `base_url`) is specified it is expected to be of the form https://example-resource.azure.openai.com/openai/deployments/example-deployment. Updating https://cencoragaidev-bhakadc4hreqbthb.z01.azurefd.net/gpsdatascience_dev to https://cencoragaidev-bhakadc4hreqbthb.z01.azurefd.net/gpsdatascience_dev/openai.\n",
      "  warnings.warn(\n"
     ]
    },
    {
     "name": "stdout",
     "output_type": "stream",
     "text": [
      "Some of the competitors of AmerisourceBergen in the pharmaceutical distribution industry include:\n",
      "\n",
      "1. McKesson Corporation\n",
      "2. Cardinal Health\n",
      "3. Owens & Minor\n",
      "4. Morris & Dickson Co., LLC\n",
      "5. H.D. Smith\n",
      "6. Smith Drug Company\n",
      "7. Anda, Inc.\n",
      "8. Medline Industries, Inc.\n",
      "9. FFF Enterprises, Inc.\n",
      "10. Canadian Pharmaceutical Distribution Network (CPDN)\n",
      "\n",
      "It's important to note that the competitive landscape may vary depending on the specific market segment or region.\n"
     ]
    }
   ],
   "source": [
    "import os\n",
    "import sys\n",
    "\n",
    "from langchain.chains import LLMChain\n",
    "from langchain.prompts import PromptTemplate\n",
    "from langchain.prompts.prompt import PromptTemplate\n",
    "from langchain.chat_models import AzureChatOpenAI\n",
    "\n",
    "# config\n",
    "os.environ['OPENAI_API_TYPE']=\"azure\"\n",
    "os.environ['OPENAI_API_VERSION']=\"2023-03-15-preview\"\n",
    "os.environ['OPENAI_API_BASE']=\"https://cencoragaidev-bhakadc4hreqbthb.z01.azurefd.net/gpsdatascience_dev/\"\n",
    "os.environ['OPENAI_API_KEY'] = \"242ad9b0c6d84b5fb4307061d5f05a86\"\n",
    "\n",
    "# Azure Chat example\n",
    "template = \"\"\"{question}\\n\\n\"\"\"\n",
    "\n",
    "prompt = PromptTemplate(input_variables=[\"question\"], template=template)\n",
    "\n",
    "llm = AzureChatOpenAI(openai_api_type=\"azure\",\n",
    "                openai_api_key=\"242ad9b0c6d84b5fb4307061d5f05a86\",\n",
    "                deployment_name='gpt-35-turbo-16k',\n",
    "                model_name=\"text-davinci-002\",\n",
    "                openai_api_base=\"https://cencoragaidev-bhakadc4hreqbthb.z01.azurefd.net/gpsdatascience_dev\",\n",
    "                openai_api_version=\"2023-03-15-preview\"\n",
    "                  )\n",
    "\n",
    "chain = LLMChain(llm=llm, prompt=prompt)\n",
    "query = \"What are the competitors of AmerisourceBergen?\"\n",
    "response = chain.run(query)\n",
    "print(response)"
   ]
  },
  {
   "cell_type": "code",
   "execution_count": 18,
   "id": "35847ada-d411-4748-83e7-f41e744625a5",
   "metadata": {
    "execution": {
     "iopub.execute_input": "2024-04-18T19:11:29.270848Z",
     "iopub.status.busy": "2024-04-18T19:11:29.269846Z",
     "iopub.status.idle": "2024-04-18T19:11:32.323145Z",
     "shell.execute_reply": "2024-04-18T19:11:32.322496Z",
     "shell.execute_reply.started": "2024-04-18T19:11:29.270848Z"
    }
   },
   "outputs": [
    {
     "name": "stdout",
     "output_type": "stream",
     "text": [
      "Some of the competitors of AmerisourceBergen in the pharmaceutical distribution industry include:\n",
      "\n",
      "1. McKesson Corporation\n",
      "2. Cardinal Health\n",
      "3. Walgreens Boots Alliance\n",
      "4. CVS Health\n",
      "5. Owens & Minor\n",
      "6. Henry Schein\n",
      "7. Mckesson Medical-Surgical\n",
      "8. Morris & Dickson Co.\n",
      "9. Smith Drug Company\n",
      "10. H.D. Smith\n"
     ]
    }
   ],
   "source": [
    "import os\n",
    "import sys\n",
    "\n",
    "from langchain.chains import LLMChain\n",
    "from langchain.prompts import PromptTemplate\n",
    "from langchain.prompts.prompt import PromptTemplate\n",
    "from langchain.chat_models import AzureChatOpenAI\n",
    "\n",
    "# config\n",
    "os.environ['OPENAI_API_TYPE']=\"azure\"\n",
    "os.environ['OPENAI_API_VERSION']=\"2023-03-15-preview\"\n",
    "os.environ['OPENAI_API_BASE']=\"https://cencoragaidev-bhakadc4hreqbthb.z01.azurefd.net/gpsdatascience_dev/\"\n",
    "os.environ['OPENAI_API_KEY'] = \"242ad9b0c6d84b5fb4307061d5f05a86\"\n",
    "\n",
    "if 'OPENAI_API_BASE' in os.environ:\n",
    "    del os.environ['OPENAI_API_BASE']\n",
    "\n",
    "# Azure Chat example\n",
    "template = \"\"\"{question}\\n\\n\"\"\"\n",
    "\n",
    "prompt = PromptTemplate(input_variables=[\"question\"], template=template)\n",
    "\n",
    "llm = AzureChatOpenAI(openai_api_type=\"azure\",\n",
    "                openai_api_key=\"242ad9b0c6d84b5fb4307061d5f05a86\",\n",
    "                deployment_name='gpt-35-turbo-16k',\n",
    "                model_name=\"text-davinci-002\",\n",
    "                azure_endpoint=\"https://cencoragaidev-bhakadc4hreqbthb.z01.azurefd.net/gpsdatascience_dev\",\n",
    "                openai_api_version=\"2023-03-15-preview\"\n",
    "                  )\n",
    "\n",
    "chain = LLMChain(llm=llm, prompt=prompt)\n",
    "query = \"What are the competitors of AmerisourceBergen?\"\n",
    "response = chain.run(query)\n",
    "print(response)"
   ]
  },
  {
   "cell_type": "markdown",
   "id": "5df3f049-fa5d-410b-9a3d-7226de016529",
   "metadata": {},
   "source": [
    "# Test: AzureChatOpenAI Using Config"
   ]
  },
  {
   "cell_type": "code",
   "execution_count": 19,
   "id": "f53feb65-1e4e-4f02-b7e9-dc9cffa9be56",
   "metadata": {
    "execution": {
     "iopub.execute_input": "2024-04-18T19:11:32.324146Z",
     "iopub.status.busy": "2024-04-18T19:11:32.324146Z",
     "iopub.status.idle": "2024-04-18T19:11:32.334421Z",
     "shell.execute_reply": "2024-04-18T19:11:32.334421Z",
     "shell.execute_reply.started": "2024-04-18T19:11:32.324146Z"
    }
   },
   "outputs": [
    {
     "name": "stdout",
     "output_type": "stream",
     "text": [
      "Setting environment for: openai\n",
      "\n",
      "\n"
     ]
    }
   ],
   "source": [
    "# get config\n",
    "import sys\n",
    "sys.path.append(os.path.expanduser(\"~/.utils\"))\n",
    "from util_openai import get_config_dict\n",
    "config = get_config_dict(env='openai')"
   ]
  },
  {
   "cell_type": "code",
   "execution_count": 20,
   "id": "aac99201-94a5-4678-96d8-cc7069874f6e",
   "metadata": {
    "execution": {
     "iopub.execute_input": "2024-04-18T19:11:32.335422Z",
     "iopub.status.busy": "2024-04-18T19:11:32.335422Z",
     "iopub.status.idle": "2024-04-18T19:11:32.340011Z",
     "shell.execute_reply": "2024-04-18T19:11:32.340011Z",
     "shell.execute_reply.started": "2024-04-18T19:11:32.335422Z"
    }
   },
   "outputs": [
    {
     "data": {
      "text/plain": [
       "'gpt-35-turbo-16k'"
      ]
     },
     "execution_count": 20,
     "metadata": {},
     "output_type": "execute_result"
    }
   ],
   "source": [
    "config['openai_deployment_name']"
   ]
  },
  {
   "cell_type": "code",
   "execution_count": 21,
   "id": "8a5c4179-4a74-45a4-b58c-491f2a0226d7",
   "metadata": {
    "execution": {
     "iopub.execute_input": "2024-04-18T19:11:32.341137Z",
     "iopub.status.busy": "2024-04-18T19:11:32.341137Z",
     "iopub.status.idle": "2024-04-18T19:11:36.623169Z",
     "shell.execute_reply": "2024-04-18T19:11:36.623169Z",
     "shell.execute_reply.started": "2024-04-18T19:11:32.341137Z"
    }
   },
   "outputs": [
    {
     "name": "stderr",
     "output_type": "stream",
     "text": [
      "C:\\Users\\a126291\\venv\\py311_camelot\\Lib\\site-packages\\langchain_community\\chat_models\\azure_openai.py:167: UserWarning: As of openai>=1.0.0, Azure endpoints should be specified via the `azure_endpoint` param not `openai_api_base` (or alias `base_url`). Updating `openai_api_base` from https://qa.gai.cencora.com/aoai to https://qa.gai.cencora.com/aoai/openai.\n",
      "  warnings.warn(\n",
      "C:\\Users\\a126291\\venv\\py311_camelot\\Lib\\site-packages\\langchain_community\\chat_models\\azure_openai.py:174: UserWarning: As of openai>=1.0.0, if `deployment_name` (or alias `azure_deployment`) is specified then `openai_api_base` (or alias `base_url`) should not be. Instead use `deployment_name` (or alias `azure_deployment`) and `azure_endpoint`.\n",
      "  warnings.warn(\n",
      "C:\\Users\\a126291\\venv\\py311_camelot\\Lib\\site-packages\\langchain_community\\chat_models\\azure_openai.py:182: UserWarning: As of openai>=1.0.0, if `openai_api_base` (or alias `base_url`) is specified it is expected to be of the form https://example-resource.azure.openai.com/openai/deployments/example-deployment. Updating https://qa.gai.cencora.com/aoai to https://qa.gai.cencora.com/aoai/openai.\n",
      "  warnings.warn(\n"
     ]
    },
    {
     "name": "stdout",
     "output_type": "stream",
     "text": [
      "Some of the competitors of AmerisourceBergen in the pharmaceutical distribution industry include:\n",
      "\n",
      "1. McKesson Corporation\n",
      "2. Cardinal Health\n",
      "3. Owens & Minor\n",
      "4. Morris & Dickson Co.\n",
      "5. H.D. Smith\n",
      "6. Anda, Inc.\n",
      "7. Smith Drug Company\n",
      "8. Dakota Drug\n",
      "9. Harvard Drug Group\n",
      "10. Mutual Drug Company\n",
      "\n",
      "These companies operate in a similar space, providing pharmaceutical distribution and related services to healthcare providers, pharmacies, and other customers.\n"
     ]
    }
   ],
   "source": [
    "import os\n",
    "import sys\n",
    "from langchain.chains import LLMChain\n",
    "from langchain.prompts import PromptTemplate\n",
    "from langchain.prompts.prompt import PromptTemplate\n",
    "from langchain.chat_models import AzureChatOpenAI\n",
    "\n",
    "# get config\n",
    "import sys\n",
    "sys.path.append(os.path.expanduser(\"~/.utils\"))\n",
    "from util_openai import config\n",
    "\n",
    "# config\n",
    "os.environ['OPENAI_API_TYPE']    = config['openai_api_type']\n",
    "os.environ['OPENAI_API_VERSION'] = config['openai_api_version']\n",
    "os.environ['OPENAI_API_BASE']    = config['openai_api_base']\n",
    "os.environ['OPENAI_API_KEY']     = config['openai_api_key']\n",
    "\n",
    "# template and prompt\n",
    "template = \"\"\"{question}\\n\\n\"\"\"\n",
    "prompt = PromptTemplate(input_variables=[\"question\"], template=template)\n",
    "\n",
    "# chat llm\n",
    "llm = AzureChatOpenAI(openai_api_type=config['openai_api_type'],\n",
    "                      deployment_name=config['openai_deployment_name'],\n",
    "                      model_name=config['openai_model_name'],\n",
    "                      openai_api_base=config['openai_api_base'],\n",
    "                      openai_api_version=config['openai_api_version'],\n",
    "                      temperature = 0.3\n",
    "                      )\n",
    "\n",
    "chain = LLMChain(llm=llm, prompt=prompt)\n",
    "query = \"What are the competitors of AmerisourceBergen?\"\n",
    "response = chain.run(query)\n",
    "print(response)"
   ]
  },
  {
   "cell_type": "markdown",
   "id": "fbe2deb5-909f-4496-986b-c8e37d6547ba",
   "metadata": {},
   "source": [
    "# Test: AzureChatOpenAI Using Config Shorter"
   ]
  },
  {
   "cell_type": "code",
   "execution_count": 22,
   "id": "897a8254-6b3c-4ba5-9243-17c311e2d3a4",
   "metadata": {
    "execution": {
     "iopub.execute_input": "2024-04-18T19:11:36.624141Z",
     "iopub.status.busy": "2024-04-18T19:11:36.624141Z",
     "iopub.status.idle": "2024-04-18T19:11:40.767794Z",
     "shell.execute_reply": "2024-04-18T19:11:40.767794Z",
     "shell.execute_reply.started": "2024-04-18T19:11:36.624141Z"
    }
   },
   "outputs": [
    {
     "name": "stdout",
     "output_type": "stream",
     "text": [
      "Setting environment for: openai\n",
      "\n",
      "\n"
     ]
    },
    {
     "name": "stderr",
     "output_type": "stream",
     "text": [
      "C:\\Users\\a126291\\venv\\py311_camelot\\Lib\\site-packages\\langchain_community\\chat_models\\azure_openai.py:167: UserWarning: As of openai>=1.0.0, Azure endpoints should be specified via the `azure_endpoint` param not `openai_api_base` (or alias `base_url`). Updating `openai_api_base` from https://qa.gai.cencora.com/aoai to https://qa.gai.cencora.com/aoai/openai.\n",
      "  warnings.warn(\n",
      "C:\\Users\\a126291\\venv\\py311_camelot\\Lib\\site-packages\\langchain_community\\chat_models\\azure_openai.py:174: UserWarning: As of openai>=1.0.0, if `deployment_name` (or alias `azure_deployment`) is specified then `openai_api_base` (or alias `base_url`) should not be. Instead use `deployment_name` (or alias `azure_deployment`) and `azure_endpoint`.\n",
      "  warnings.warn(\n",
      "C:\\Users\\a126291\\venv\\py311_camelot\\Lib\\site-packages\\langchain_community\\chat_models\\azure_openai.py:182: UserWarning: As of openai>=1.0.0, if `openai_api_base` (or alias `base_url`) is specified it is expected to be of the form https://example-resource.azure.openai.com/openai/deployments/example-deployment. Updating https://qa.gai.cencora.com/aoai to https://qa.gai.cencora.com/aoai/openai.\n",
      "  warnings.warn(\n"
     ]
    },
    {
     "name": "stdout",
     "output_type": "stream",
     "text": [
      "Some of the competitors of AmerisourceBergen in the pharmaceutical distribution industry include:\n",
      "\n",
      "1. McKesson Corporation\n",
      "2. Cardinal Health\n",
      "3. Owens & Minor\n",
      "4. Morris & Dickson Co.\n",
      "5. H.D. Smith\n",
      "6. Anda, Inc.\n",
      "7. Smith Drug Company\n",
      "8. Dakota Drug\n",
      "9. Harvard Drug Group\n",
      "10. Mutual Drug Company\n",
      "\n",
      "It's worth noting that the pharmaceutical distribution industry is highly consolidated, with a few major players dominating the market.\n"
     ]
    }
   ],
   "source": [
    "# %%writefile a.py\n",
    "\n",
    "import os\n",
    "import sys\n",
    "from langchain.chains import LLMChain\n",
    "from langchain.prompts import PromptTemplate\n",
    "from langchain.prompts.prompt import PromptTemplate\n",
    "from langchain.chat_models import AzureChatOpenAI\n",
    "\n",
    "# get config\n",
    "import sys\n",
    "sys.path.append(os.path.expanduser(\"~/.utils\"))\n",
    "from util_openai import get_config_dict\n",
    "config = get_config_dict(env='openai')\n",
    "\n",
    "# Azure Chat example\n",
    "template = \"\"\"{question}\\n\\n\"\"\"\n",
    "prompt = PromptTemplate(input_variables=[\"question\"], template=template)\n",
    "\n",
    "llm = AzureChatOpenAI(**config['kw_azure_chat_openai'],temperature=0)\n",
    "\n",
    "chain = LLMChain(llm=llm, prompt=prompt)\n",
    "query = \"What are the competitors of AmerisourceBergen?\"\n",
    "response = chain.run(query)\n",
    "print(response)"
   ]
  },
  {
   "cell_type": "markdown",
   "id": "e966a6dc-2eb4-49ec-b24d-8e74556306b7",
   "metadata": {},
   "source": [
    "# Test: AzureChatOpenAI Using Config Script"
   ]
  },
  {
   "cell_type": "code",
   "execution_count": 23,
   "id": "39e48858-6a15-48b6-b620-2d700563e9c9",
   "metadata": {
    "execution": {
     "iopub.execute_input": "2024-04-18T19:11:40.768801Z",
     "iopub.status.busy": "2024-04-18T19:11:40.768801Z",
     "iopub.status.idle": "2024-04-18T19:11:40.782009Z",
     "shell.execute_reply": "2024-04-18T19:11:40.781509Z",
     "shell.execute_reply.started": "2024-04-18T19:11:40.768801Z"
    }
   },
   "outputs": [
    {
     "name": "stdout",
     "output_type": "stream",
     "text": [
      "Writing test_azure_chat_openai.py\n"
     ]
    }
   ],
   "source": [
    "%%writefile test_azure_chat_openai.py\n",
    "\n",
    "import os\n",
    "import sys\n",
    "from langchain.chains import LLMChain\n",
    "from langchain.prompts import PromptTemplate\n",
    "from langchain.prompts.prompt import PromptTemplate\n",
    "from langchain.chat_models import AzureChatOpenAI\n",
    "\n",
    "# get config\n",
    "import sys\n",
    "sys.path.append(os.path.expanduser(\"~/.utils\"))\n",
    "from util_openai import get_config_dict\n",
    "config = get_config_dict(env='openai')\n",
    "\n",
    "# Azure Chat example\n",
    "template = \"\"\"\n",
    "If you don't know the answer, just say that you don't know, don't try to make up an answer.\n",
    "\n",
    "Question: {question}\n",
    "\"\"\"\n",
    "prompt = PromptTemplate(input_variables=[\"question\"], template=template)\n",
    "\n",
    "llm = AzureChatOpenAI(**config['kw_azure_chat_openai'],temperature=0)\n",
    "\n",
    "chain = LLMChain(llm=llm, prompt=prompt)\n",
    "query = \"What are the competitors of AmerisourceBergen?\"\n",
    "response = chain.run(query)\n",
    "print(response)"
   ]
  },
  {
   "cell_type": "code",
   "execution_count": 24,
   "id": "9b604a19-a0d2-44d7-bcf6-b0c12445a612",
   "metadata": {
    "execution": {
     "iopub.execute_input": "2024-04-18T19:11:40.784009Z",
     "iopub.status.busy": "2024-04-18T19:11:40.783510Z",
     "iopub.status.idle": "2024-04-18T19:11:48.635318Z",
     "shell.execute_reply": "2024-04-18T19:11:48.634819Z",
     "shell.execute_reply.started": "2024-04-18T19:11:40.784009Z"
    }
   },
   "outputs": [
    {
     "name": "stdout",
     "output_type": "stream",
     "text": [
      "Setting environment for: openai\n",
      "\n",
      "\n",
      "Some of the competitors of AmerisourceBergen in the pharmaceutical distribution industry include McKesson Corporation, Cardinal Health, and Owens & Minor.\n"
     ]
    },
    {
     "name": "stderr",
     "output_type": "stream",
     "text": [
      "c:\\users\\a126291\\venv\\py311openai\\Lib\\site-packages\\langchain\\chat_models\\__init__.py:31: LangChainDeprecationWarning: Importing chat models from langchain is deprecated. Importing from langchain will no longer be supported as of langchain==0.2.0. Please import from langchain-community instead:\n",
      "\n",
      "`from langchain_community.chat_models import AzureChatOpenAI`.\n",
      "\n",
      "To install langchain-community run `pip install -U langchain-community`.\n",
      "  warnings.warn(\n",
      "c:\\users\\a126291\\venv\\py311openai\\Lib\\site-packages\\langchain_core\\_api\\deprecation.py:117: LangChainDeprecationWarning: The class `langchain_community.chat_models.azure_openai.AzureChatOpenAI` was deprecated in langchain-community 0.0.10 and will be removed in 0.2.0. An updated version of the class exists in the langchain-openai package and should be used instead. To use it run `pip install -U langchain-openai` and import as `from langchain_openai import AzureChatOpenAI`.\n",
      "  warn_deprecated(\n",
      "c:\\users\\a126291\\venv\\py311openai\\Lib\\site-packages\\langchain_core\\_api\\deprecation.py:117: LangChainDeprecationWarning: The function `run` was deprecated in LangChain 0.1.0 and will be removed in 0.2.0. Use invoke instead.\n",
      "  warn_deprecated(\n"
     ]
    }
   ],
   "source": [
    "!\"c:\\users\\a126291\\venv\\py311openai\\scripts\\python.exe\" test_azure_chat_openai.py"
   ]
  },
  {
   "cell_type": "code",
   "execution_count": null,
   "id": "1118fae6-5abc-4215-b285-8e6391b7fc68",
   "metadata": {},
   "outputs": [],
   "source": []
  }
 ],
 "metadata": {
  "kernelspec": {
   "display_name": "Python 3 (ipykernel)",
   "language": "python",
   "name": "python3"
  },
  "language_info": {
   "codemirror_mode": {
    "name": "ipython",
    "version": 3
   },
   "file_extension": ".py",
   "mimetype": "text/x-python",
   "name": "python",
   "nbconvert_exporter": "python",
   "pygments_lexer": "ipython3",
   "version": "3.11.7"
  }
 },
 "nbformat": 4,
 "nbformat_minor": 5
}
