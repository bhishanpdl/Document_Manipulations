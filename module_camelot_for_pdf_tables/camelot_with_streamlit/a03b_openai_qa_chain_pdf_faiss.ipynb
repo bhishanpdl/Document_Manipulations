{
 "cells": [
  {
   "cell_type": "markdown",
   "id": "53dacae0-a6bb-4e4c-bd4e-829dc10a8c99",
   "metadata": {},
   "source": [
    "# Imports"
   ]
  },
  {
   "cell_type": "code",
   "execution_count": 1,
   "id": "c772efaf-6c98-4f28-b32e-9915a5e82206",
   "metadata": {
    "execution": {
     "iopub.execute_input": "2024-04-18T20:29:44.006342Z",
     "iopub.status.busy": "2024-04-18T20:29:44.006342Z",
     "iopub.status.idle": "2024-04-18T20:29:45.177972Z",
     "shell.execute_reply": "2024-04-18T20:29:45.177972Z",
     "shell.execute_reply.started": "2024-04-18T20:29:44.006342Z"
    }
   },
   "outputs": [],
   "source": [
    "import os\n",
    "import json\n",
    "import yaml\n",
    "import numpy as np\n",
    "import pandas as pd\n",
    "\n",
    "from langchain.document_loaders import PyPDFLoader\n",
    "from langchain.text_splitter import CharacterTextSplitter\n",
    "from langchain.embeddings import OpenAIEmbeddings\n",
    "from langchain.vectorstores import FAISS\n",
    "from langchain.chat_models import AzureChatOpenAI\n",
    "from langchain.vectorstores import FAISS\n",
    "from langchain.chains import RetrievalQA\n",
    "from langchain.chains import ConversationalRetrievalChain"
   ]
  },
  {
   "cell_type": "markdown",
   "id": "59236415-4058-47ee-bd9e-ed603b082c2b",
   "metadata": {},
   "source": [
    "# Variables"
   ]
  },
  {
   "cell_type": "code",
   "execution_count": 2,
   "id": "6051addf-a572-44eb-a33b-c364049116b0",
   "metadata": {
    "execution": {
     "iopub.execute_input": "2024-04-18T20:29:45.177972Z",
     "iopub.status.busy": "2024-04-18T20:29:45.177972Z",
     "iopub.status.idle": "2024-04-18T20:29:45.181481Z",
     "shell.execute_reply": "2024-04-18T20:29:45.181481Z",
     "shell.execute_reply.started": "2024-04-18T20:29:45.177972Z"
    }
   },
   "outputs": [],
   "source": [
    "path_pdf = r\"C:\\Users\\a126291\\OneDrive - AmerisourceBergen(ABC)\\data\\pdf_files\\cencora_earning_reports\\AmerisourceBergen-Reports-Fiscal-2023-Second-Quarter-Results-2023.pdf\"\n",
    "\n",
    "embed_model= \"text-embedding-ada-002\"\n",
    "vectore_store_persist_directory = 'vector_store'"
   ]
  },
  {
   "cell_type": "markdown",
   "id": "82d4a0a0-9977-4f05-a3da-a2d5b16cdce1",
   "metadata": {},
   "source": [
    "# Config"
   ]
  },
  {
   "cell_type": "code",
   "execution_count": 23,
   "id": "680081b7-fafd-4274-a952-a4d15c8d52c7",
   "metadata": {
    "execution": {
     "iopub.execute_input": "2024-04-18T20:52:56.135205Z",
     "iopub.status.busy": "2024-04-18T20:52:56.135205Z",
     "iopub.status.idle": "2024-04-18T20:52:56.145359Z",
     "shell.execute_reply": "2024-04-18T20:52:56.145359Z",
     "shell.execute_reply.started": "2024-04-18T20:52:56.135205Z"
    }
   },
   "outputs": [
    {
     "data": {
      "text/plain": [
       "'f400'"
      ]
     },
     "execution_count": 23,
     "metadata": {},
     "output_type": "execute_result"
    }
   ],
   "source": [
    "import sys\n",
    "import os\n",
    "sys.path.append(os.path.expanduser(\"~/.utils\"))\n",
    "\n",
    "from util_openai import get_config_dict\n",
    "\n",
    "config = get_config_dict(env=None)\n",
    "config['openai_api_key'][:4]"
   ]
  },
  {
   "cell_type": "markdown",
   "id": "b14bbdb6-c419-4469-9028-70e11641bacf",
   "metadata": {},
   "source": [
    "# Load pdf"
   ]
  },
  {
   "cell_type": "code",
   "execution_count": 4,
   "id": "37d5a569-1ee3-41ee-9704-e71a91e144c5",
   "metadata": {
    "execution": {
     "iopub.execute_input": "2024-04-18T20:29:45.703990Z",
     "iopub.status.busy": "2024-04-18T20:29:45.703990Z",
     "iopub.status.idle": "2024-04-18T20:29:46.270901Z",
     "shell.execute_reply": "2024-04-18T20:29:46.270901Z",
     "shell.execute_reply.started": "2024-04-18T20:29:45.703990Z"
    }
   },
   "outputs": [],
   "source": [
    "from langchain.document_loaders import PyPDFLoader\n",
    "\n",
    "loader = PyPDFLoader(path_pdf)\n",
    "documents = loader.load()"
   ]
  },
  {
   "cell_type": "markdown",
   "id": "2bede4a5-d3af-46cd-ab79-878a879ff05a",
   "metadata": {},
   "source": [
    "# Split Documents Into Chunks"
   ]
  },
  {
   "cell_type": "code",
   "execution_count": 5,
   "id": "e0fcab3f-9e0b-4bc1-99f6-dddebce47006",
   "metadata": {
    "execution": {
     "iopub.execute_input": "2024-04-18T20:29:46.272730Z",
     "iopub.status.busy": "2024-04-18T20:29:46.270901Z",
     "iopub.status.idle": "2024-04-18T20:29:46.282465Z",
     "shell.execute_reply": "2024-04-18T20:29:46.281961Z",
     "shell.execute_reply.started": "2024-04-18T20:29:46.272730Z"
    }
   },
   "outputs": [],
   "source": [
    "from langchain.text_splitter import CharacterTextSplitter\n",
    "\n",
    "text_splitter = CharacterTextSplitter(chunk_size=1000, chunk_overlap=100)\n",
    "texts = text_splitter.split_documents(documents)"
   ]
  },
  {
   "cell_type": "markdown",
   "id": "18683968-d1ee-4ff5-a67e-361b9f2b9fca",
   "metadata": {},
   "source": [
    "# Create Embeddings"
   ]
  },
  {
   "cell_type": "code",
   "execution_count": null,
   "id": "f6bebe27-8aef-406b-b19d-43ac94005796",
   "metadata": {},
   "outputs": [],
   "source": []
  },
  {
   "cell_type": "markdown",
   "id": "3367a6c0-1afc-4cc2-9986-963eb922b44d",
   "metadata": {},
   "source": [
    "# Create Vector Store and Retriever"
   ]
  },
  {
   "cell_type": "code",
   "execution_count": 6,
   "id": "5cfe525b-0891-43ce-a063-01c44381aaeb",
   "metadata": {
    "execution": {
     "iopub.execute_input": "2024-04-18T20:29:46.282480Z",
     "iopub.status.busy": "2024-04-18T20:29:46.282480Z",
     "iopub.status.idle": "2024-04-18T20:29:46.290217Z",
     "shell.execute_reply": "2024-04-18T20:29:46.289699Z",
     "shell.execute_reply.started": "2024-04-18T20:29:46.282480Z"
    }
   },
   "outputs": [],
   "source": [
    "# import glob\n",
    "# glob.glob(str(os.path.expanduser(\"~/.certificates\"))+\"/*.crt\")"
   ]
  },
  {
   "cell_type": "code",
   "execution_count": 7,
   "id": "5b43604d-5bf4-4f52-8001-b10a879d4a03",
   "metadata": {
    "execution": {
     "iopub.execute_input": "2024-04-18T20:29:46.291698Z",
     "iopub.status.busy": "2024-04-18T20:29:46.291198Z",
     "iopub.status.idle": "2024-04-18T20:29:46.296300Z",
     "shell.execute_reply": "2024-04-18T20:29:46.295642Z",
     "shell.execute_reply.started": "2024-04-18T20:29:46.291698Z"
    }
   },
   "outputs": [],
   "source": [
    "# os.environ[\"REQUESTS_CA_BUNDLE\"] = os.path.expanduser('~/.certificates/hugging_face.crt')\n",
    "# os.environ[\"REQUESTS_CA_BUNDLE\"] = os.path.expanduser('~/.certificates/openai_public.crt')"
   ]
  },
  {
   "cell_type": "code",
   "execution_count": 8,
   "id": "75573488-3c0d-4a54-938d-6e9995edf3f1",
   "metadata": {
    "execution": {
     "iopub.execute_input": "2024-04-18T20:29:46.297510Z",
     "iopub.status.busy": "2024-04-18T20:29:46.297010Z",
     "iopub.status.idle": "2024-04-18T20:29:46.303817Z",
     "shell.execute_reply": "2024-04-18T20:29:46.303588Z",
     "shell.execute_reply.started": "2024-04-18T20:29:46.297510Z"
    }
   },
   "outputs": [
    {
     "name": "stdout",
     "output_type": "stream",
     "text": [
      "Setting environment for: openai\n",
      "\n",
      "\n"
     ]
    }
   ],
   "source": [
    "# openai\n",
    "env = 'openai'\n",
    "\n",
    "\n",
    "if env == 'openai':\n",
    "    import openai\n",
    "\n",
    "    print(f'Setting environment for: {env}\\n\\n')\n",
    "    openai.api_key = config['openai_api_key']\n",
    "    openai.api_base = config['openai_api_base']\n",
    "    openai.api_type = 'azure'\n",
    "    openai.api_version = config['openai_api_version']\n",
    "\n",
    "    # set env keys\n",
    "    keys = [\"OPENAI_API_KEY\",\"OPENAI_API_TYPE\",\"OPENAI_API_BASE\",\"OPENAI_API_VERSION\"]\n",
    "    for key in keys:\n",
    "        os.environ[key] = config.get(key)"
   ]
  },
  {
   "cell_type": "code",
   "execution_count": 9,
   "id": "7ac56dc9-f8fe-46f9-8611-d4821ab506fb",
   "metadata": {
    "execution": {
     "iopub.execute_input": "2024-04-18T20:29:46.305279Z",
     "iopub.status.busy": "2024-04-18T20:29:46.304319Z",
     "iopub.status.idle": "2024-04-18T20:29:47.317635Z",
     "shell.execute_reply": "2024-04-18T20:29:47.317635Z",
     "shell.execute_reply.started": "2024-04-18T20:29:46.305279Z"
    }
   },
   "outputs": [
    {
     "name": "stderr",
     "output_type": "stream",
     "text": [
      "C:\\Users\\a126291\\venv\\py311_camelot\\Lib\\site-packages\\langchain_core\\_api\\deprecation.py:117: LangChainDeprecationWarning: The class `langchain_community.chat_models.azure_openai.AzureChatOpenAI` was deprecated in langchain-community 0.0.10 and will be removed in 0.2.0. An updated version of the class exists in the langchain-openai package and should be used instead. To use it run `pip install -U langchain-openai` and import as `from langchain_openai import AzureChatOpenAI`.\n",
      "  warn_deprecated(\n"
     ]
    }
   ],
   "source": [
    "if 'OPENAI_API_BASE' in os.environ:\n",
    "    del os.environ['OPENAI_API_BASE']\n",
    "\n",
    "llm = AzureChatOpenAI(openai_api_type=\"azure\",\n",
    "                openai_api_key=\"242ad9b0c6d84b5fb4307061d5f05a86\",\n",
    "                deployment_name='gpt-35-turbo-16k',\n",
    "                model_name=\"text-davinci-002\",\n",
    "                azure_endpoint=\"https://cencoragaidev-bhakadc4hreqbthb.z01.azurefd.net/gpsdatascience_dev\",\n",
    "                openai_api_version=\"2023-03-15-preview\"\n",
    "                  )\n"
   ]
  },
  {
   "cell_type": "code",
   "execution_count": 10,
   "id": "86569f97-4901-4158-b261-33754e173dcd",
   "metadata": {
    "execution": {
     "iopub.execute_input": "2024-04-18T20:29:47.318662Z",
     "iopub.status.busy": "2024-04-18T20:29:47.318662Z",
     "iopub.status.idle": "2024-04-18T20:29:47.932572Z",
     "shell.execute_reply": "2024-04-18T20:29:47.932572Z",
     "shell.execute_reply.started": "2024-04-18T20:29:47.318662Z"
    }
   },
   "outputs": [
    {
     "name": "stderr",
     "output_type": "stream",
     "text": [
      "C:\\Users\\a126291\\venv\\py311_camelot\\Lib\\site-packages\\langchain_core\\_api\\deprecation.py:117: LangChainDeprecationWarning: The class `langchain_community.embeddings.azure_openai.AzureOpenAIEmbeddings` was deprecated in langchain-community 0.0.9 and will be removed in 0.2.0. An updated version of the class exists in the langchain-openai package and should be used instead. To use it run `pip install -U langchain-openai` and import as `from langchain_openai import AzureOpenAIEmbeddings`.\n",
      "  warn_deprecated(\n",
      "C:\\Users\\a126291\\venv\\py311_camelot\\Lib\\site-packages\\langchain_community\\embeddings\\azure_openai.py:113: UserWarning: As of openai>=1.0.0, Azure endpoints should be specified via the `azure_endpoint` param not `openai_api_base` (or alias `base_url`). Updating `openai_api_base` from https://cencoragaidev-bhakadc4hreqbthb.z01.azurefd.net/gpsdatascience_dev/ to https://cencoragaidev-bhakadc4hreqbthb.z01.azurefd.net/gpsdatascience_dev//openai.\n",
      "  warnings.warn(\n"
     ]
    },
    {
     "data": {
      "text/plain": [
       "AzureOpenAIEmbeddings(client=<openai.resources.embeddings.Embeddings object at 0x0000021628C9F950>, async_client=<openai.resources.embeddings.AsyncEmbeddings object at 0x0000021628C8B510>, model='text-embedding-ada-002', deployment=None, openai_api_version='2023-05-15', openai_api_base='https://cencoragaidev-bhakadc4hreqbthb.z01.azurefd.net/gpsdatascience_dev//openai', openai_api_type='azure', openai_proxy='', embedding_ctx_length=8191, openai_api_key='242ad9b0c6d84b5fb4307061d5f05a86', openai_organization=None, allowed_special=set(), disallowed_special='all', chunk_size=1, max_retries=2, request_timeout=None, headers=None, tiktoken_enabled=True, tiktoken_model_name=None, show_progress_bar=False, model_kwargs={}, skip_empty=False, default_headers=None, default_query=None, retry_min_seconds=4, retry_max_seconds=20, http_client=None, azure_endpoint=None, azure_ad_token=None, azure_ad_token_provider=None, validate_base_url=True)"
      ]
     },
     "execution_count": 10,
     "metadata": {},
     "output_type": "execute_result"
    }
   ],
   "source": [
    "from langchain.embeddings import AzureOpenAIEmbeddings\n",
    "\n",
    "embed_model= \"text-embedding-ada-002\"\n",
    "model_kwargs = dict(azure_endpoint=\"https://cencoragaidev-bhakadc4hreqbthb.z01.azurefd.net/gpsdatascience_dev\")\n",
    "embeddings = AzureOpenAIEmbeddings(model=embed_model,\n",
    "                              chunk_size=1,\n",
    "                              openai_api_key=\"242ad9b0c6d84b5fb4307061d5f05a86\",\n",
    "                              # model_kwargs=model_kwargs\n",
    "                              openai_api_base=\"https://cencoragaidev-bhakadc4hreqbthb.z01.azurefd.net/gpsdatascience_dev/\"\n",
    "                             )\n",
    "embeddings"
   ]
  },
  {
   "cell_type": "code",
   "execution_count": 11,
   "id": "ac52b2b1-5afe-4455-be8b-e5acf7b17153",
   "metadata": {
    "execution": {
     "iopub.execute_input": "2024-04-18T20:29:47.932572Z",
     "iopub.status.busy": "2024-04-18T20:29:47.932572Z",
     "iopub.status.idle": "2024-04-18T20:29:52.586596Z",
     "shell.execute_reply": "2024-04-18T20:29:52.586596Z",
     "shell.execute_reply.started": "2024-04-18T20:29:47.932572Z"
    }
   },
   "outputs": [],
   "source": [
    "from langchain.vectorstores import FAISS\n",
    "\n",
    "pages = loader.load_and_split()\n",
    "vector_store = FAISS.from_documents(documents=pages, embedding=embeddings)\n",
    "vector_store.save_local(vectore_store_persist_directory)"
   ]
  },
  {
   "cell_type": "markdown",
   "id": "e0ac9101-9af2-4f0d-bc28-ed7c25af0488",
   "metadata": {},
   "source": [
    "# LLM"
   ]
  },
  {
   "cell_type": "code",
   "execution_count": 12,
   "id": "8c04898a-7ebd-4138-880a-7c67e610b07e",
   "metadata": {
    "execution": {
     "iopub.execute_input": "2024-04-18T20:29:52.586596Z",
     "iopub.status.busy": "2024-04-18T20:29:52.586596Z",
     "iopub.status.idle": "2024-04-18T20:29:53.226788Z",
     "shell.execute_reply": "2024-04-18T20:29:53.226289Z",
     "shell.execute_reply.started": "2024-04-18T20:29:52.586596Z"
    }
   },
   "outputs": [
    {
     "name": "stderr",
     "output_type": "stream",
     "text": [
      "C:\\Users\\a126291\\venv\\py311_camelot\\Lib\\site-packages\\langchain_community\\chat_models\\azure_openai.py:167: UserWarning: As of openai>=1.0.0, Azure endpoints should be specified via the `azure_endpoint` param not `openai_api_base` (or alias `base_url`). Updating `openai_api_base` from https://qa.gai.cencora.com/aoai to https://qa.gai.cencora.com/aoai/openai.\n",
      "  warnings.warn(\n",
      "C:\\Users\\a126291\\venv\\py311_camelot\\Lib\\site-packages\\langchain_community\\chat_models\\azure_openai.py:174: UserWarning: As of openai>=1.0.0, if `deployment_name` (or alias `azure_deployment`) is specified then `openai_api_base` (or alias `base_url`) should not be. Instead use `deployment_name` (or alias `azure_deployment`) and `azure_endpoint`.\n",
      "  warnings.warn(\n",
      "C:\\Users\\a126291\\venv\\py311_camelot\\Lib\\site-packages\\langchain_community\\chat_models\\azure_openai.py:182: UserWarning: As of openai>=1.0.0, if `openai_api_base` (or alias `base_url`) is specified it is expected to be of the form https://example-resource.azure.openai.com/openai/deployments/example-deployment. Updating https://qa.gai.cencora.com/aoai to https://qa.gai.cencora.com/aoai/openai.\n",
      "  warnings.warn(\n"
     ]
    }
   ],
   "source": [
    "from langchain.chat_models import AzureChatOpenAI\n",
    "\n",
    "llm = AzureChatOpenAI(**config['kw_azure_llm'],temperature=0.4)"
   ]
  },
  {
   "cell_type": "markdown",
   "id": "cc9d6143-bb47-4897-a926-1fcb133fd716",
   "metadata": {},
   "source": [
    "# Get vector store from local file"
   ]
  },
  {
   "cell_type": "code",
   "execution_count": 13,
   "id": "911cd5b0-33c1-4ace-9d4b-e768f2d06489",
   "metadata": {
    "execution": {
     "iopub.execute_input": "2024-04-18T20:29:53.228043Z",
     "iopub.status.busy": "2024-04-18T20:29:53.226788Z",
     "iopub.status.idle": "2024-04-18T20:29:53.254305Z",
     "shell.execute_reply": "2024-04-18T20:29:53.254001Z",
     "shell.execute_reply.started": "2024-04-18T20:29:53.227866Z"
    }
   },
   "outputs": [],
   "source": [
    "from langchain.vectorstores import FAISS\n",
    "\n",
    "vector_store = FAISS.load_local(vectore_store_persist_directory, embeddings, allow_dangerous_deserialization=True,)\n",
    "retriever = vector_store.as_retriever(\n",
    "    search_type=\"similarity\",\n",
    "    search_kwargs={\"k\":2},\n",
    "    return_source_documents=True,\n",
    ")"
   ]
  },
  {
   "cell_type": "markdown",
   "id": "1ad1d22a-0856-47ad-ac6c-1e7e039e8e5d",
   "metadata": {},
   "source": [
    "# Create RetrivalQA Chain"
   ]
  },
  {
   "cell_type": "code",
   "execution_count": 14,
   "id": "613eaf00-ad0a-4b71-8abf-739bd423fca6",
   "metadata": {
    "execution": {
     "iopub.execute_input": "2024-04-18T20:29:53.254805Z",
     "iopub.status.busy": "2024-04-18T20:29:53.254805Z",
     "iopub.status.idle": "2024-04-18T20:29:53.259227Z",
     "shell.execute_reply": "2024-04-18T20:29:53.258892Z",
     "shell.execute_reply.started": "2024-04-18T20:29:53.254805Z"
    }
   },
   "outputs": [],
   "source": [
    "from langchain.chains import RetrievalQA\n",
    "\n",
    "qa = RetrievalQA.from_chain_type(\n",
    "    llm=llm,\n",
    "    chain_type='stuff',\n",
    "    retriever = retriever\n",
    ")"
   ]
  },
  {
   "cell_type": "markdown",
   "id": "e0d0ddb1-ae73-44ac-8942-f9323e0922bf",
   "metadata": {},
   "source": [
    "# Create Query And Get Response"
   ]
  },
  {
   "cell_type": "code",
   "execution_count": 15,
   "id": "5c20fb72-4725-4a13-b925-97c41040e8bc",
   "metadata": {
    "execution": {
     "iopub.execute_input": "2024-04-18T20:29:53.260701Z",
     "iopub.status.busy": "2024-04-18T20:29:53.260199Z",
     "iopub.status.idle": "2024-04-18T20:29:54.556329Z",
     "shell.execute_reply": "2024-04-18T20:29:54.556329Z",
     "shell.execute_reply.started": "2024-04-18T20:29:53.260701Z"
    }
   },
   "outputs": [
    {
     "name": "stderr",
     "output_type": "stream",
     "text": [
      "C:\\Users\\a126291\\venv\\py311_camelot\\Lib\\site-packages\\langchain_core\\_api\\deprecation.py:117: LangChainDeprecationWarning: The function `run` was deprecated in LangChain 0.1.0 and will be removed in 0.2.0. Use invoke instead.\n",
      "  warn_deprecated(\n"
     ]
    },
    {
     "data": {
      "text/plain": [
       "'The year-to-year gain in revenue is 7.6%.'"
      ]
     },
     "execution_count": 15,
     "metadata": {},
     "output_type": "execute_result"
    }
   ],
   "source": [
    "query = 'What are the year to year gain in revenue?'\n",
    "qa.run(query)"
   ]
  },
  {
   "cell_type": "code",
   "execution_count": 16,
   "id": "5992fac3-f282-4edc-9a8b-e3fe4da06872",
   "metadata": {
    "execution": {
     "iopub.execute_input": "2024-04-18T20:29:54.557385Z",
     "iopub.status.busy": "2024-04-18T20:29:54.557385Z",
     "iopub.status.idle": "2024-04-18T20:29:55.244333Z",
     "shell.execute_reply": "2024-04-18T20:29:55.244333Z",
     "shell.execute_reply.started": "2024-04-18T20:29:54.557385Z"
    }
   },
   "outputs": [
    {
     "name": "stderr",
     "output_type": "stream",
     "text": [
      "C:\\Users\\a126291\\venv\\py311_camelot\\Lib\\site-packages\\langchain_core\\_api\\deprecation.py:117: LangChainDeprecationWarning: The function `__call__` was deprecated in LangChain 0.1.0 and will be removed in 0.2.0. Use invoke instead.\n",
      "  warn_deprecated(\n"
     ]
    },
    {
     "name": "stdout",
     "output_type": "stream",
     "text": [
      "The year-to-year gain in revenue is 7.6%.\n"
     ]
    }
   ],
   "source": [
    "result = qa({\"query\": query})\n",
    "print(result['result'])"
   ]
  },
  {
   "cell_type": "markdown",
   "id": "55bc4485-1fca-455a-a490-1549d97ce922",
   "metadata": {},
   "source": [
    "## Using: ConversationalRetrievalChain"
   ]
  },
  {
   "cell_type": "code",
   "execution_count": 17,
   "id": "cda3b5c5-8e1f-4cfc-9b58-65126844f48a",
   "metadata": {
    "execution": {
     "iopub.execute_input": "2024-04-18T20:29:55.244333Z",
     "iopub.status.busy": "2024-04-18T20:29:55.244333Z",
     "iopub.status.idle": "2024-04-18T20:29:55.247401Z",
     "shell.execute_reply": "2024-04-18T20:29:55.247401Z",
     "shell.execute_reply.started": "2024-04-18T20:29:55.244333Z"
    }
   },
   "outputs": [],
   "source": [
    "from langchain.chains import ConversationalRetrievalChain"
   ]
  },
  {
   "cell_type": "code",
   "execution_count": 18,
   "id": "0762bce4-8e44-4148-9de1-92d150cf4073",
   "metadata": {
    "execution": {
     "iopub.execute_input": "2024-04-18T20:29:55.247401Z",
     "iopub.status.busy": "2024-04-18T20:29:55.247401Z",
     "iopub.status.idle": "2024-04-18T20:29:55.260942Z",
     "shell.execute_reply": "2024-04-18T20:29:55.260942Z",
     "shell.execute_reply.started": "2024-04-18T20:29:55.247401Z"
    }
   },
   "outputs": [],
   "source": [
    "qa = ConversationalRetrievalChain.from_llm(llm,retriever)"
   ]
  },
  {
   "cell_type": "code",
   "execution_count": 19,
   "id": "a503cba8-360a-497e-bf82-63fd288c01df",
   "metadata": {
    "execution": {
     "iopub.execute_input": "2024-04-18T20:29:55.260942Z",
     "iopub.status.busy": "2024-04-18T20:29:55.260942Z",
     "iopub.status.idle": "2024-04-18T20:29:56.884786Z",
     "shell.execute_reply": "2024-04-18T20:29:56.884786Z",
     "shell.execute_reply.started": "2024-04-18T20:29:55.260942Z"
    }
   },
   "outputs": [
    {
     "name": "stdout",
     "output_type": "stream",
     "text": [
      "Based on the information provided, there is a decrease in revenue in the International Healthcare Solutions segment. However, there is an increase in revenue in the U.S. Healthcare Solutions segment.\n"
     ]
    }
   ],
   "source": [
    "chat_history = []\n",
    "query = \"Is there gain or loss of revenue in this quarter?\"\n",
    "\n",
    "result = qa({'question': query, 'chat_history': chat_history})\n",
    "print(result['answer'])"
   ]
  },
  {
   "cell_type": "code",
   "execution_count": 20,
   "id": "6c6c5dba-2166-4533-ba0d-4f15dac656af",
   "metadata": {
    "execution": {
     "iopub.execute_input": "2024-04-18T20:29:56.886733Z",
     "iopub.status.busy": "2024-04-18T20:29:56.884786Z",
     "iopub.status.idle": "2024-04-18T20:29:59.366906Z",
     "shell.execute_reply": "2024-04-18T20:29:59.366906Z",
     "shell.execute_reply.started": "2024-04-18T20:29:56.886733Z"
    }
   },
   "outputs": [
    {
     "name": "stdout",
     "output_type": "stream",
     "text": [
      "Yes, the U.S. Healthcare Solutions segment experienced an increase in revenue this quarter. The revenue for the segment in the current year was $112,930,035, while in the previous year it was $103,922,410, representing an 8.7% increase.\n"
     ]
    }
   ],
   "source": [
    "chat_history = [(query,result['answer'])]\n",
    "query = \"Is there gain in revenue for U.S. Healthcare Solutions this quarter?\"\n",
    "\n",
    "result = qa({'question': query, 'chat_history': chat_history})\n",
    "print(result['answer'])"
   ]
  },
  {
   "cell_type": "markdown",
   "id": "e66a6c13-7a46-43f4-bea6-72d8f5ee8867",
   "metadata": {},
   "source": [
    "# Script"
   ]
  },
  {
   "cell_type": "code",
   "execution_count": 21,
   "id": "22b41e41-f138-4016-ba85-be9f4c7d3c52",
   "metadata": {
    "execution": {
     "iopub.execute_input": "2024-04-18T20:29:59.371709Z",
     "iopub.status.busy": "2024-04-18T20:29:59.371709Z",
     "iopub.status.idle": "2024-04-18T20:29:59.386476Z",
     "shell.execute_reply": "2024-04-18T20:29:59.385976Z",
     "shell.execute_reply.started": "2024-04-18T20:29:59.371709Z"
    }
   },
   "outputs": [
    {
     "name": "stdout",
     "output_type": "stream",
     "text": [
      "Overwriting a.py\n"
     ]
    }
   ],
   "source": [
    "%%writefile a.py\n",
    "# imports\n",
    "import os\n",
    "import json\n",
    "import yaml\n",
    "import numpy as np\n",
    "import pandas as pd\n",
    "\n",
    "from langchain.document_loaders import PyPDFLoader\n",
    "from langchain.text_splitter import CharacterTextSplitter\n",
    "from langchain.embeddings import AzureOpenAIEmbeddings\n",
    "from langchain.vectorstores import FAISS\n",
    "from langchain.chat_models import AzureChatOpenAI\n",
    "from langchain.vectorstores import FAISS\n",
    "from langchain.chains import RetrievalQA\n",
    "from langchain.chains import ConversationalRetrievalChain\n",
    "\n",
    "# config\n",
    "def get_config_dict():\n",
    "    import os\n",
    "    import yaml\n",
    "\n",
    "    with open(os.path.expanduser('~/.config/config.yaml')) as fh:\n",
    "        config = yaml.safe_load(fh)\n",
    "\n",
    "    # openai\n",
    "    keys = [\"OPENAI_API_KEY\",\"OPENAI_API_TYPE\",\"OPENAI_API_BASE\",\"OPENAI_API_VERSION\"]\n",
    "    for key in keys:\n",
    "        os.environ[key] = config.get(key)\n",
    "\n",
    "    return config\n",
    "\n",
    "config = get_config_dict()\n",
    "\n",
    "# variables\n",
    "path_pdf = r\"C:\\Users\\a126291\\OneDrive - AmerisourceBergen(ABC)\\data\\pdf_files\\cencora_earning_reports\\AmerisourceBergen-Reports-Fiscal-2023-Second-Quarter-Results-2023.pdf\"\n",
    "\n",
    "embed_model= \"text-embedding-ada-002\"\n",
    "vectore_store_persist_directory = 'vector_store'\n",
    "\n",
    "# load documents\n",
    "loader = PyPDFLoader(path_pdf)\n",
    "documents = loader.load()\n",
    "\n",
    "# create embeddings\n",
    "embed_model= \"text-embedding-ada-002\"\n",
    "embeddings = AzureOpenAIEmbeddings(model=embed_model, chunk_size=1)\n",
    "\n",
    "# create vector store\n",
    "pages = loader.load_and_split()\n",
    "vector_store = FAISS.from_documents(documents=pages, embedding=embeddings)\n",
    "vector_store.save_local(vectore_store_persist_directory)\n",
    "\n",
    "# llm\n",
    "llm = AzureChatOpenAI(**config['kw_azure_llm'],temperature=0.4)\n",
    "\n",
    "# load vector store from local file\n",
    "vector_store = FAISS.load_local(vectore_store_persist_directory, embeddings)\n",
    "retriever = vector_store.as_retriever(\n",
    "    search_type=\"similarity\",\n",
    "    search_kwargs={\"k\":2},\n",
    "    return_source_documents=True\n",
    ")\n",
    "\n",
    "# question answer\n",
    "qa = ConversationalRetrievalChain.from_llm(llm, retriever)\n",
    "chat_history = []\n",
    "query = \"Is there gain or loss of revenue in this quarter?\"\n",
    "result = qa({'question': query, 'chat_history': chat_history})\n",
    "print(result['answer'])\n",
    "\n",
    "# another chat\n",
    "print()\n",
    "chat_history = [(query,result['answer'])]\n",
    "query = \"Is there gain in revenue for U.S. Healthcare Solutions this quarter?\"\n",
    "\n",
    "result = qa({'question': query, 'chat_history': chat_history})\n",
    "print(result['answer'])"
   ]
  },
  {
   "cell_type": "code",
   "execution_count": 22,
   "id": "888a00cb-d197-4bee-a550-76892237e37e",
   "metadata": {
    "execution": {
     "iopub.execute_input": "2024-04-18T20:29:59.387600Z",
     "iopub.status.busy": "2024-04-18T20:29:59.387511Z",
     "iopub.status.idle": "2024-04-18T20:29:59.405021Z",
     "shell.execute_reply": "2024-04-18T20:29:59.405021Z",
     "shell.execute_reply.started": "2024-04-18T20:29:59.387600Z"
    }
   },
   "outputs": [],
   "source": [
    "import pyperclip\n",
    "\n",
    "pyperclip.copy(os.getcwd())"
   ]
  },
  {
   "cell_type": "code",
   "execution_count": null,
   "id": "a630aa91-eeb5-4f9f-869d-a57d15211b65",
   "metadata": {},
   "outputs": [],
   "source": []
  }
 ],
 "metadata": {
  "kernelspec": {
   "display_name": "Python 3 (ipykernel)",
   "language": "python",
   "name": "python3"
  },
  "language_info": {
   "codemirror_mode": {
    "name": "ipython",
    "version": 3
   },
   "file_extension": ".py",
   "mimetype": "text/x-python",
   "name": "python",
   "nbconvert_exporter": "python",
   "pygments_lexer": "ipython3",
   "version": "3.11.7"
  }
 },
 "nbformat": 4,
 "nbformat_minor": 5
}
