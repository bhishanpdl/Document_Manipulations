{
 "cells": [
  {
   "cell_type": "markdown",
   "id": "a23bc6ac-a229-4952-b673-d9986c9c8e91",
   "metadata": {},
   "source": [
    "# Introduction\n",
    "\n",
    "- https://github.com/atlanhq/camelot\n",
    "- https://camelot-py.readthedocs.io/en/master/"
   ]
  },
  {
   "cell_type": "code",
   "execution_count": 1,
   "id": "c989f69b-cf74-4a95-9011-f4da5f5cb2a0",
   "metadata": {
    "execution": {
     "iopub.execute_input": "2024-05-07T16:59:35.318632Z",
     "iopub.status.busy": "2024-05-07T16:59:35.318632Z",
     "iopub.status.idle": "2024-05-07T16:59:36.446593Z",
     "shell.execute_reply": "2024-05-07T16:59:36.446593Z",
     "shell.execute_reply.started": "2024-05-07T16:59:35.318632Z"
    }
   },
   "outputs": [
    {
     "name": "stdout",
     "output_type": "stream",
     "text": [
      "pip 24.0 from C:\\Users\\a126291\\venv\\py311_camelot\\Lib\\site-packages\\pip (python 3.11)\n",
      "\n"
     ]
    }
   ],
   "source": [
    "!pip --version"
   ]
  },
  {
   "cell_type": "code",
   "execution_count": 2,
   "id": "88400982-cb26-4dc5-8aae-fb7a3b6005e3",
   "metadata": {
    "execution": {
     "iopub.execute_input": "2024-05-07T16:59:36.446593Z",
     "iopub.status.busy": "2024-05-07T16:59:36.446593Z",
     "iopub.status.idle": "2024-05-07T16:59:36.468476Z",
     "shell.execute_reply": "2024-05-07T16:59:36.468476Z",
     "shell.execute_reply.started": "2024-05-07T16:59:36.446593Z"
    }
   },
   "outputs": [],
   "source": [
    "%load_ext watermark"
   ]
  },
  {
   "cell_type": "code",
   "execution_count": 3,
   "id": "6647873d-2f80-4f3d-beea-b71ddf9bb551",
   "metadata": {
    "execution": {
     "iopub.execute_input": "2024-05-07T16:59:36.469481Z",
     "iopub.status.busy": "2024-05-07T16:59:36.469481Z",
     "iopub.status.idle": "2024-05-07T16:59:36.474344Z",
     "shell.execute_reply": "2024-05-07T16:59:36.474344Z",
     "shell.execute_reply.started": "2024-05-07T16:59:36.469481Z"
    }
   },
   "outputs": [
    {
     "data": {
      "text/plain": [
       "'C:\\\\Users\\\\a126291\\\\venv\\\\py311_camelot\\\\Scripts\\\\python.exe'"
      ]
     },
     "execution_count": 3,
     "metadata": {},
     "output_type": "execute_result"
    }
   ],
   "source": [
    "import sys\n",
    "sys.executable"
   ]
  },
  {
   "cell_type": "code",
   "execution_count": 4,
   "id": "9ab90c92-4f6f-4a62-b2ad-bef15af85e76",
   "metadata": {
    "execution": {
     "iopub.execute_input": "2024-05-07T16:59:36.475321Z",
     "iopub.status.busy": "2024-05-07T16:59:36.475321Z",
     "iopub.status.idle": "2024-05-07T16:59:39.120755Z",
     "shell.execute_reply": "2024-05-07T16:59:39.120755Z",
     "shell.execute_reply.started": "2024-05-07T16:59:36.475321Z"
    }
   },
   "outputs": [],
   "source": [
    "import camelot"
   ]
  },
  {
   "cell_type": "code",
   "execution_count": 5,
   "id": "1f2a7ec8-120c-4d0f-8773-8064f0511c14",
   "metadata": {
    "execution": {
     "iopub.execute_input": "2024-05-07T16:59:39.120755Z",
     "iopub.status.busy": "2024-05-07T16:59:39.120755Z",
     "iopub.status.idle": "2024-05-07T16:59:39.130078Z",
     "shell.execute_reply": "2024-05-07T16:59:39.130078Z",
     "shell.execute_reply.started": "2024-05-07T16:59:39.120755Z"
    }
   },
   "outputs": [
    {
     "name": "stdout",
     "output_type": "stream",
     "text": [
      "camelot: 0.11.0\n",
      "sys    : 3.11.7 (tags/v3.11.7:fa7a6f2, Dec  4 2023, 19:24:49) [MSC v.1937 64 bit (AMD64)]\n",
      "\n"
     ]
    }
   ],
   "source": [
    "%watermark -iv"
   ]
  },
  {
   "cell_type": "markdown",
   "id": "33721fd3-40d9-4672-8120-4959edb63b47",
   "metadata": {},
   "source": [
    "# Example: camelot: Fails to read many tables in pages"
   ]
  },
  {
   "cell_type": "code",
   "execution_count": 6,
   "id": "36465def-712e-46ff-97b9-ef520ca8d251",
   "metadata": {
    "execution": {
     "iopub.execute_input": "2024-05-07T16:59:39.130078Z",
     "iopub.status.busy": "2024-05-07T16:59:39.130078Z",
     "iopub.status.idle": "2024-05-07T16:59:40.049791Z",
     "shell.execute_reply": "2024-05-07T16:59:40.049791Z",
     "shell.execute_reply.started": "2024-05-07T16:59:39.130078Z"
    }
   },
   "outputs": [
    {
     "name": "stdout",
     "output_type": "stream",
     "text": [
      "<TableList n=2>\n"
     ]
    }
   ],
   "source": [
    "#path_pdf = r\"C:\\Users\\a126291\\OneDrive - AmerisourceBergen(ABC)\\data\\a00_office_files\\pdf_with_tables\\lifileucel.pdf\"\n",
    "\n",
    "dir_data = r\"C:\\Users\\a126291\\OneDrive - AmerisourceBergen(ABC)\\GPS\\a01_Important\\python_modules\\camelot\\camelot_example_01\\pdf_files\"\n",
    "\n",
    "pdf_base_name = 'lifileucel.pdf'\n",
    "path_pdf = dir_data + '\\\\' + pdf_base_name\n",
    "\n",
    "parsed_tables = camelot.read_pdf(path_pdf)\n",
    "\n",
    "print(parsed_tables)\n",
    "\n",
    "# parsed_tables.export('foo.csv',f='csv',compress=True) # foo.zip"
   ]
  },
  {
   "cell_type": "markdown",
   "id": "fdb674d2-8176-42a0-a774-c4fb8966bbe9",
   "metadata": {},
   "source": [
    "# Read pdf with each pages with tables\n",
    "- https://levelup.gitconnected.com/working-with-pdfs-the-best-tools-for-extracting-text-tables-and-images-2e07a540c5cc"
   ]
  },
  {
   "cell_type": "code",
   "execution_count": 7,
   "id": "97f1ef6d-0fef-47e7-ace8-7e1eca7d5d85",
   "metadata": {
    "execution": {
     "iopub.execute_input": "2024-05-07T16:59:40.050617Z",
     "iopub.status.busy": "2024-05-07T16:59:40.050617Z",
     "iopub.status.idle": "2024-05-07T16:59:40.099137Z",
     "shell.execute_reply": "2024-05-07T16:59:40.099137Z",
     "shell.execute_reply.started": "2024-05-07T16:59:40.050617Z"
    }
   },
   "outputs": [],
   "source": [
    "from pypdf import PdfReader\n",
    "import os\n",
    "import PyPDF2\n",
    "\n",
    "def split_pdf_pages(pdf_path,dir_out):\n",
    "    pdf = PyPDF2.PdfReader(pdf_path)\n",
    "\n",
    "    for page_num, page in enumerate(pdf.pages):\n",
    "        output_pdf = PyPDF2.PdfWriter()\n",
    "        output_pdf.add_page(page)\n",
    "\n",
    "        with open(f\"{dir_out}/page_{page_num + 1}.pdf\", \"wb\") as output_file:\n",
    "            output_pdf.write(output_file)"
   ]
  },
  {
   "cell_type": "code",
   "execution_count": 8,
   "id": "9ac2631b-3e73-4a8d-9d41-9384d8f12c47",
   "metadata": {
    "execution": {
     "iopub.execute_input": "2024-05-07T16:59:40.099638Z",
     "iopub.status.busy": "2024-05-07T16:59:40.099638Z",
     "iopub.status.idle": "2024-05-07T16:59:46.542718Z",
     "shell.execute_reply": "2024-05-07T16:59:46.542718Z",
     "shell.execute_reply.started": "2024-05-07T16:59:40.099638Z"
    }
   },
   "outputs": [],
   "source": [
    "dir_out = 'pdf_files/pdf_pages'\n",
    "\n",
    "if not os.path.exists(dir_out):\n",
    "    os.mkdir(dir_out)\n",
    "\n",
    "split_pdf_pages(path_pdf,dir_out)"
   ]
  },
  {
   "cell_type": "code",
   "execution_count": 9,
   "id": "6c251d67-bd35-4c1a-b695-5482b4ab7335",
   "metadata": {
    "execution": {
     "iopub.execute_input": "2024-05-07T16:59:46.543722Z",
     "iopub.status.busy": "2024-05-07T16:59:46.543722Z",
     "iopub.status.idle": "2024-05-07T16:59:46.547904Z",
     "shell.execute_reply": "2024-05-07T16:59:46.547843Z",
     "shell.execute_reply.started": "2024-05-07T16:59:46.543722Z"
    }
   },
   "outputs": [
    {
     "name": "stdout",
     "output_type": "stream",
     "text": [
      "C:\\Users\\a126291\\OneDrive - AmerisourceBergen(ABC)\\GPS\\a01_Important\\python_modules\\camelot\\camelot_example_01\\pdf_files\n"
     ]
    }
   ],
   "source": [
    "dir_data = r\"C:\\Users\\a126291\\OneDrive - AmerisourceBergen(ABC)\\GPS\\a01_Important\\python_modules\\camelot\\camelot_example_01\\pdf_files\"\n",
    "print(dir_data)"
   ]
  },
  {
   "cell_type": "code",
   "execution_count": 10,
   "id": "1242aca1-1c1a-4c4f-9d68-643598ea8723",
   "metadata": {
    "execution": {
     "iopub.execute_input": "2024-05-07T16:59:46.549609Z",
     "iopub.status.busy": "2024-05-07T16:59:46.549087Z",
     "iopub.status.idle": "2024-05-07T16:59:46.562197Z",
     "shell.execute_reply": "2024-05-07T16:59:46.561931Z",
     "shell.execute_reply.started": "2024-05-07T16:59:46.549609Z"
    }
   },
   "outputs": [
    {
     "data": {
      "text/plain": [
       "'C:\\\\Users\\\\a126291\\\\OneDrive - AmerisourceBergen(ABC)\\\\GPS\\\\a01_Important\\\\python_modules\\\\camelot\\\\camelot_example_01\\\\pdf_files\\\\pdf_pages\\\\page_1.pdf'"
      ]
     },
     "execution_count": 10,
     "metadata": {},
     "output_type": "execute_result"
    }
   ],
   "source": [
    "import glob\n",
    "\n",
    "path_pdfs = glob.glob(f\"{dir_data}\\\\pdf_pages\\\\*.pdf\")\n",
    "path_pdfs[0]"
   ]
  },
  {
   "cell_type": "code",
   "execution_count": 11,
   "id": "d2a92d27-ecd7-46ea-8f97-7c3896baeea3",
   "metadata": {
    "execution": {
     "iopub.execute_input": "2024-05-07T16:59:46.562197Z",
     "iopub.status.busy": "2024-05-07T16:59:46.562197Z",
     "iopub.status.idle": "2024-05-07T16:59:46.573636Z",
     "shell.execute_reply": "2024-05-07T16:59:46.573636Z",
     "shell.execute_reply.started": "2024-05-07T16:59:46.562197Z"
    }
   },
   "outputs": [
    {
     "data": {
      "text/plain": [
       "'C:\\\\Users\\\\a126291\\\\OneDrive - AmerisourceBergen(ABC)\\\\GPS\\\\a01_Important\\\\python_modules\\\\camelot\\\\camelot_example_01\\\\pdf_files\\\\pdf_pages\\\\page_1.pdf'"
      ]
     },
     "execution_count": 11,
     "metadata": {},
     "output_type": "execute_result"
    }
   ],
   "source": [
    "# take only 10 pages\n",
    "path_pdfs = glob.glob(f\"{dir_data}\\\\pdf_pages\\\\*.pdf\")\n",
    "path_pdfs = [ path_pdfs[0].replace('page_1', f'page_{i}') for i in range(1,10)]\n",
    "path_pdfs[0]"
   ]
  },
  {
   "cell_type": "code",
   "execution_count": 12,
   "id": "eb8a031f-dead-4a42-87ca-07f902548e18",
   "metadata": {
    "execution": {
     "iopub.execute_input": "2024-05-07T16:59:46.574642Z",
     "iopub.status.busy": "2024-05-07T16:59:46.574642Z",
     "iopub.status.idle": "2024-05-07T16:59:46.584678Z",
     "shell.execute_reply": "2024-05-07T16:59:46.584678Z",
     "shell.execute_reply.started": "2024-05-07T16:59:46.574642Z"
    }
   },
   "outputs": [],
   "source": [
    "dir1 = \"pdf_files\\\\extracted_tables\"\n",
    "if not os.path.isdir(dir1):\n",
    "    os.makedirs(dir1)"
   ]
  },
  {
   "cell_type": "code",
   "execution_count": 13,
   "id": "6086a09d-383a-4d38-81a6-c0d9fdbdbd25",
   "metadata": {
    "execution": {
     "iopub.execute_input": "2024-05-07T16:59:46.584678Z",
     "iopub.status.busy": "2024-05-07T16:59:46.584678Z",
     "iopub.status.idle": "2024-05-07T16:59:47.381392Z",
     "shell.execute_reply": "2024-05-07T16:59:47.381392Z",
     "shell.execute_reply.started": "2024-05-07T16:59:46.584678Z"
    }
   },
   "outputs": [
    {
     "name": "stdout",
     "output_type": "stream",
     "text": [
      "extracted_tables\n",
      "lifileucel.pdf\n",
      "pdf_pages\n"
     ]
    }
   ],
   "source": [
    "!ls pdf_files"
   ]
  },
  {
   "cell_type": "code",
   "execution_count": 14,
   "id": "53ae3293-c668-4e0a-b070-6a3e6d519701",
   "metadata": {
    "execution": {
     "iopub.execute_input": "2024-05-07T16:59:47.381392Z",
     "iopub.status.busy": "2024-05-07T16:59:47.381392Z",
     "iopub.status.idle": "2024-05-07T16:59:56.303814Z",
     "shell.execute_reply": "2024-05-07T16:59:56.303814Z",
     "shell.execute_reply.started": "2024-05-07T16:59:47.381392Z"
    }
   },
   "outputs": [],
   "source": [
    "for path_pdf in path_pdfs:\n",
    "    base_ext = os.path.basename(path_pdf)\n",
    "    base = os.path.splitext(base_ext)[0]\n",
    "    parsed_tables = camelot.read_pdf(path_pdf)\n",
    "    ofile_csv = f\"pdf_files\\\\extracted_tables\\\\{base}.csv\"\n",
    "    parsed_tables.export(ofile_csv,f='csv',compress=False) # compress gives .zip file\n"
   ]
  },
  {
   "cell_type": "code",
   "execution_count": 15,
   "id": "ecc480aa-5297-45f3-894b-89cfbfa7a652",
   "metadata": {
    "execution": {
     "iopub.execute_input": "2024-05-07T16:59:56.304844Z",
     "iopub.status.busy": "2024-05-07T16:59:56.304844Z",
     "iopub.status.idle": "2024-05-07T16:59:56.314414Z",
     "shell.execute_reply": "2024-05-07T16:59:56.313463Z",
     "shell.execute_reply.started": "2024-05-07T16:59:56.304844Z"
    }
   },
   "outputs": [],
   "source": [
    "# !explorer.exe ."
   ]
  },
  {
   "cell_type": "code",
   "execution_count": null,
   "id": "42a42379-3601-4af4-b654-ab802de1d887",
   "metadata": {},
   "outputs": [],
   "source": []
  },
  {
   "cell_type": "code",
   "execution_count": null,
   "id": "d93ff960-d59c-45f6-bf7d-7a0b532e3a7e",
   "metadata": {},
   "outputs": [],
   "source": []
  }
 ],
 "metadata": {
  "kernelspec": {
   "display_name": "Python 3 (ipykernel)",
   "language": "python",
   "name": "python3"
  },
  "language_info": {
   "codemirror_mode": {
    "name": "ipython",
    "version": 3
   },
   "file_extension": ".py",
   "mimetype": "text/x-python",
   "name": "python",
   "nbconvert_exporter": "python",
   "pygments_lexer": "ipython3",
   "version": "3.11.7"
  }
 },
 "nbformat": 4,
 "nbformat_minor": 5
}
